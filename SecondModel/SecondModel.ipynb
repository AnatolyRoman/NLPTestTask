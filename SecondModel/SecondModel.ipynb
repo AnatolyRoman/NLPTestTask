{
  "cells": [
    {
      "cell_type": "code",
      "execution_count": 149,
      "id": "74886d14",
      "metadata": {
        "execution": {
          "iopub.execute_input": "2022-06-01T11:44:17.949987Z",
          "iopub.status.busy": "2022-06-01T11:44:17.949085Z",
          "iopub.status.idle": "2022-06-01T11:44:26.714475Z",
          "shell.execute_reply": "2022-06-01T11:44:26.715076Z",
          "shell.execute_reply.started": "2022-06-01T11:32:21.374146Z"
        },
        "id": "74886d14",
        "papermill": {
          "duration": 8.813159,
          "end_time": "2022-06-01T11:44:26.715416",
          "exception": false,
          "start_time": "2022-06-01T11:44:17.902257",
          "status": "completed"
        },
        "tags": [],
        "colab": {
          "base_uri": "https://localhost:8080/"
        },
        "outputId": "c321ddee-5db4-4ef9-cddd-67c02e2ae1d2"
      },
      "outputs": [
        {
          "output_type": "stream",
          "name": "stdout",
          "text": [
            "Looking in indexes: https://pypi.org/simple, https://us-python.pkg.dev/colab-wheels/public/simple/\n",
            "Requirement already satisfied: nlp in /usr/local/lib/python3.10/dist-packages (0.4.0)\n",
            "Requirement already satisfied: numpy in /usr/local/lib/python3.10/dist-packages (from nlp) (1.22.4)\n",
            "Requirement already satisfied: pyarrow>=0.16.0 in /usr/local/lib/python3.10/dist-packages (from nlp) (9.0.0)\n",
            "Requirement already satisfied: dill in /usr/local/lib/python3.10/dist-packages (from nlp) (0.3.6)\n",
            "Requirement already satisfied: pandas in /usr/local/lib/python3.10/dist-packages (from nlp) (1.5.3)\n",
            "Requirement already satisfied: requests>=2.19.0 in /usr/local/lib/python3.10/dist-packages (from nlp) (2.27.1)\n",
            "Requirement already satisfied: tqdm>=4.27 in /usr/local/lib/python3.10/dist-packages (from nlp) (4.65.0)\n",
            "Requirement already satisfied: filelock in /usr/local/lib/python3.10/dist-packages (from nlp) (3.12.0)\n",
            "Requirement already satisfied: xxhash in /usr/local/lib/python3.10/dist-packages (from nlp) (3.2.0)\n",
            "Requirement already satisfied: urllib3<1.27,>=1.21.1 in /usr/local/lib/python3.10/dist-packages (from requests>=2.19.0->nlp) (1.26.15)\n",
            "Requirement already satisfied: certifi>=2017.4.17 in /usr/local/lib/python3.10/dist-packages (from requests>=2.19.0->nlp) (2022.12.7)\n",
            "Requirement already satisfied: charset-normalizer~=2.0.0 in /usr/local/lib/python3.10/dist-packages (from requests>=2.19.0->nlp) (2.0.12)\n",
            "Requirement already satisfied: idna<4,>=2.5 in /usr/local/lib/python3.10/dist-packages (from requests>=2.19.0->nlp) (3.4)\n",
            "Requirement already satisfied: python-dateutil>=2.8.1 in /usr/local/lib/python3.10/dist-packages (from pandas->nlp) (2.8.2)\n",
            "Requirement already satisfied: pytz>=2020.1 in /usr/local/lib/python3.10/dist-packages (from pandas->nlp) (2022.7.1)\n",
            "Requirement already satisfied: six>=1.5 in /usr/local/lib/python3.10/dist-packages (from python-dateutil>=2.8.1->pandas->nlp) (1.16.0)\n",
            "Looking in indexes: https://pypi.org/simple, https://us-python.pkg.dev/colab-wheels/public/simple/\n",
            "Requirement already satisfied: datasets in /usr/local/lib/python3.10/dist-packages (2.12.0)\n",
            "Requirement already satisfied: numpy>=1.17 in /usr/local/lib/python3.10/dist-packages (from datasets) (1.22.4)\n",
            "Requirement already satisfied: pyarrow>=8.0.0 in /usr/local/lib/python3.10/dist-packages (from datasets) (9.0.0)\n",
            "Requirement already satisfied: dill<0.3.7,>=0.3.0 in /usr/local/lib/python3.10/dist-packages (from datasets) (0.3.6)\n",
            "Requirement already satisfied: pandas in /usr/local/lib/python3.10/dist-packages (from datasets) (1.5.3)\n",
            "Requirement already satisfied: requests>=2.19.0 in /usr/local/lib/python3.10/dist-packages (from datasets) (2.27.1)\n",
            "Requirement already satisfied: tqdm>=4.62.1 in /usr/local/lib/python3.10/dist-packages (from datasets) (4.65.0)\n",
            "Requirement already satisfied: xxhash in /usr/local/lib/python3.10/dist-packages (from datasets) (3.2.0)\n",
            "Requirement already satisfied: multiprocess in /usr/local/lib/python3.10/dist-packages (from datasets) (0.70.14)\n",
            "Requirement already satisfied: fsspec[http]>=2021.11.1 in /usr/local/lib/python3.10/dist-packages (from datasets) (2023.4.0)\n",
            "Requirement already satisfied: aiohttp in /usr/local/lib/python3.10/dist-packages (from datasets) (3.8.4)\n",
            "Requirement already satisfied: huggingface-hub<1.0.0,>=0.11.0 in /usr/local/lib/python3.10/dist-packages (from datasets) (0.15.1)\n",
            "Requirement already satisfied: packaging in /usr/local/lib/python3.10/dist-packages (from datasets) (23.1)\n",
            "Requirement already satisfied: responses<0.19 in /usr/local/lib/python3.10/dist-packages (from datasets) (0.18.0)\n",
            "Requirement already satisfied: pyyaml>=5.1 in /usr/local/lib/python3.10/dist-packages (from datasets) (6.0)\n",
            "Requirement already satisfied: attrs>=17.3.0 in /usr/local/lib/python3.10/dist-packages (from aiohttp->datasets) (23.1.0)\n",
            "Requirement already satisfied: charset-normalizer<4.0,>=2.0 in /usr/local/lib/python3.10/dist-packages (from aiohttp->datasets) (2.0.12)\n",
            "Requirement already satisfied: multidict<7.0,>=4.5 in /usr/local/lib/python3.10/dist-packages (from aiohttp->datasets) (6.0.4)\n",
            "Requirement already satisfied: async-timeout<5.0,>=4.0.0a3 in /usr/local/lib/python3.10/dist-packages (from aiohttp->datasets) (4.0.2)\n",
            "Requirement already satisfied: yarl<2.0,>=1.0 in /usr/local/lib/python3.10/dist-packages (from aiohttp->datasets) (1.9.2)\n",
            "Requirement already satisfied: frozenlist>=1.1.1 in /usr/local/lib/python3.10/dist-packages (from aiohttp->datasets) (1.3.3)\n",
            "Requirement already satisfied: aiosignal>=1.1.2 in /usr/local/lib/python3.10/dist-packages (from aiohttp->datasets) (1.3.1)\n",
            "Requirement already satisfied: filelock in /usr/local/lib/python3.10/dist-packages (from huggingface-hub<1.0.0,>=0.11.0->datasets) (3.12.0)\n",
            "Requirement already satisfied: typing-extensions>=3.7.4.3 in /usr/local/lib/python3.10/dist-packages (from huggingface-hub<1.0.0,>=0.11.0->datasets) (4.5.0)\n",
            "Requirement already satisfied: urllib3<1.27,>=1.21.1 in /usr/local/lib/python3.10/dist-packages (from requests>=2.19.0->datasets) (1.26.15)\n",
            "Requirement already satisfied: certifi>=2017.4.17 in /usr/local/lib/python3.10/dist-packages (from requests>=2.19.0->datasets) (2022.12.7)\n",
            "Requirement already satisfied: idna<4,>=2.5 in /usr/local/lib/python3.10/dist-packages (from requests>=2.19.0->datasets) (3.4)\n",
            "Requirement already satisfied: python-dateutil>=2.8.1 in /usr/local/lib/python3.10/dist-packages (from pandas->datasets) (2.8.2)\n",
            "Requirement already satisfied: pytz>=2020.1 in /usr/local/lib/python3.10/dist-packages (from pandas->datasets) (2022.7.1)\n",
            "Requirement already satisfied: six>=1.5 in /usr/local/lib/python3.10/dist-packages (from python-dateutil>=2.8.1->pandas->datasets) (1.16.0)\n"
          ]
        }
      ],
      "source": [
        "!pip install nlp\n",
        "!pip install datasets\n",
        "\n",
        "import numpy as np\n",
        "import seaborn as sns\n",
        "import pandas as pd\n",
        "import matplotlib.pyplot as plt\n",
        "import nlp\n",
        "import tensorflow as tf\n",
        "import random\n",
        "import os\n",
        "%matplotlib inline"
      ]
    },
    {
      "cell_type": "code",
      "execution_count": 150,
      "id": "f0029fb2",
      "metadata": {
        "execution": {
          "iopub.execute_input": "2022-06-01T11:44:26.800483Z",
          "iopub.status.busy": "2022-06-01T11:44:26.794376Z",
          "iopub.status.idle": "2022-06-01T11:44:26.804693Z",
          "shell.execute_reply": "2022-06-01T11:44:26.805420Z",
          "shell.execute_reply.started": "2022-06-01T11:32:29.051584Z"
        },
        "id": "f0029fb2",
        "papermill": {
          "duration": 0.052336,
          "end_time": "2022-06-01T11:44:26.805636",
          "exception": false,
          "start_time": "2022-06-01T11:44:26.753300",
          "status": "completed"
        },
        "tags": []
      },
      "outputs": [],
      "source": [
        "def show_history(h):\n",
        "    # Функция для отображения графиков точности и потерь\n",
        "    epochs_trained = len(h.history['loss'])\n",
        "    plt.figure(figsize=(9, 9))\n",
        "\n",
        "    # График точности\n",
        "    plt.subplot(1, 2, 1)\n",
        "    plt.plot(range(0, epochs_trained), h.history.get('accuracy'), label='Обучение')\n",
        "    plt.plot(range(0, epochs_trained), h.history.get('val_accuracy'), label='Валидация')\n",
        "    plt.ylim([0., 1.])\n",
        "    plt.xlabel('Эпохи')\n",
        "    plt.ylabel('Точность')\n",
        "    plt.legend()\n",
        "\n",
        "    # График потерь\n",
        "    plt.subplot(1, 2, 2)\n",
        "    plt.plot(range(0, epochs_trained), h.history.get('loss'), label='Обучение')\n",
        "    plt.plot(range(0, epochs_trained), h.history.get('val_loss'), label='Валидация')\n",
        "    plt.xlabel('Эпохи')\n",
        "    plt.ylabel('Потери')\n",
        "    plt.legend()\n",
        "    plt.show()"
      ]
    },
    {
      "cell_type": "code",
      "execution_count": 151,
      "id": "758683b5",
      "metadata": {
        "execution": {
          "iopub.execute_input": "2022-06-01T11:44:26.887654Z",
          "iopub.status.busy": "2022-06-01T11:44:26.886836Z",
          "iopub.status.idle": "2022-06-01T11:44:27.097904Z",
          "shell.execute_reply": "2022-06-01T11:44:27.097279Z",
          "shell.execute_reply.started": "2022-06-01T11:32:29.061940Z"
        },
        "id": "758683b5",
        "papermill": {
          "duration": 0.253153,
          "end_time": "2022-06-01T11:44:27.098084",
          "exception": false,
          "start_time": "2022-06-01T11:44:26.844931",
          "status": "completed"
        },
        "tags": []
      },
      "outputs": [],
      "source": [
        "def show_confusion_matrix(y_true, y_pred, classes):\n",
        "    # Функция для отображения матрицы ошибок\n",
        "    cm = confusion_matrix(y_true, y_pred, normalize='true')\n",
        "    plt.figure(figsize=(9, 9))\n",
        "    sp = plt.subplot(1, 1, 1)\n",
        "    ctx = sp.matshow(cm)\n",
        "    plt.xticks(list(range(0, 6)), labels=classes)\n",
        "    plt.yticks(list(range(0, 6)), labels=classes)\n",
        "    plt.colorbar(ctx)\n",
        "    plt.show()"
      ]
    },
    {
      "cell_type": "code",
      "execution_count": 152,
      "id": "14c49354",
      "metadata": {
        "execution": {
          "iopub.execute_input": "2022-06-01T11:44:27.182998Z",
          "iopub.status.busy": "2022-06-01T11:44:27.182227Z",
          "iopub.status.idle": "2022-06-01T11:44:27.186894Z",
          "shell.execute_reply": "2022-06-01T11:44:27.187698Z",
          "shell.execute_reply.started": "2022-06-01T11:32:29.234694Z"
        },
        "id": "14c49354",
        "papermill": {
          "duration": 0.05083,
          "end_time": "2022-06-01T11:44:27.187943",
          "exception": false,
          "start_time": "2022-06-01T11:44:27.137113",
          "status": "completed"
        },
        "tags": []
      },
      "outputs": [],
      "source": [
        "def create_model_checkpoint(model_name, save_path=\"./model_checkpoints\"):\n",
        "    # Функция для создания контрольной точки модели\n",
        "    return tf.keras.callbacks.ModelCheckpoint(filepath=os.path.join(save_path, model_name),\n",
        "                                              monitor=\"val_loss\",\n",
        "                                              verbose=0,\n",
        "                                              save_best_only=True)\n"
      ]
    },
    {
      "cell_type": "code",
      "execution_count": 153,
      "id": "b0d14e2a",
      "metadata": {
        "execution": {
          "iopub.execute_input": "2022-06-01T11:44:27.270161Z",
          "iopub.status.busy": "2022-06-01T11:44:27.269368Z",
          "iopub.status.idle": "2022-06-01T11:44:52.100128Z",
          "shell.execute_reply": "2022-06-01T11:44:52.098910Z",
          "shell.execute_reply.started": "2022-06-01T11:32:29.243194Z"
        },
        "id": "b0d14e2a",
        "outputId": "289ae114-b85e-49ca-ec81-74c448c31fc4",
        "papermill": {
          "duration": 24.874564,
          "end_time": "2022-06-01T11:44:52.100396",
          "exception": false,
          "start_time": "2022-06-01T11:44:27.225832",
          "status": "completed"
        },
        "tags": [],
        "colab": {
          "base_uri": "https://localhost:8080/",
          "height": 106,
          "referenced_widgets": [
            "9dd934811ef04a43b81928fe3f63dec5",
            "547961efcb6944d183af5ba14e5be072",
            "190d9b5fa7ba45c18f74c32023e5c802",
            "f7c88326f8c9433aa2c470605e2d8756",
            "ef193f105f34409088409f19af1f78f1",
            "f495eee7258143e380cd8c724dfd80c8",
            "264d68aae2f24f34964d655beecbbb5a",
            "145d1300f91a4daabfa2fe75e348bb3b",
            "e4c6010c7b0b4245962fee9ec7955de3",
            "fb916899c50c4384853e7cfbb639bebc",
            "1a82b748f7b04917afa10a5da0512823"
          ]
        }
      },
      "outputs": [
        {
          "output_type": "stream",
          "name": "stderr",
          "text": [
            "WARNING:datasets.builder:No config specified, defaulting to: emotion/split\n",
            "WARNING:datasets.builder:Found cached dataset emotion (/root/.cache/huggingface/datasets/dair-ai___emotion/split/1.0.0/cca5efe2dfeb58c1d098e0f9eeb200e9927d889b5a03c67097275dfb5fe463bd)\n"
          ]
        },
        {
          "output_type": "display_data",
          "data": {
            "text/plain": [
              "  0%|          | 0/3 [00:00<?, ?it/s]"
            ],
            "application/vnd.jupyter.widget-view+json": {
              "version_major": 2,
              "version_minor": 0,
              "model_id": "9dd934811ef04a43b81928fe3f63dec5"
            }
          },
          "metadata": {}
        }
      ],
      "source": [
        "from datasets import load_dataset\n",
        "\n",
        "# Загрузка набора данных\n",
        "data = load_dataset(\"dair-ai/emotion\")\n"
      ]
    },
    {
      "cell_type": "code",
      "source": [
        "\n",
        "# Получение списка уникальных эмоций\n",
        "unique_emotions = data['train'].features['label'].names\n",
        "\n",
        "# Создание словаря, где каждой эмоции соответствует цифра\n",
        "emotion_to_index = {emotion: index for index, emotion in enumerate(unique_emotions)}\n",
        "\n",
        "# Вывод словаря на экран\n",
        "print(emotion_to_index)\n"
      ],
      "metadata": {
        "colab": {
          "base_uri": "https://localhost:8080/"
        },
        "id": "7-wkWFczzKVV",
        "outputId": "7532aa60-88bf-4e2e-e3dd-fd982391be9d"
      },
      "id": "7-wkWFczzKVV",
      "execution_count": 154,
      "outputs": [
        {
          "output_type": "stream",
          "name": "stdout",
          "text": [
            "{'sadness': 0, 'joy': 1, 'love': 2, 'anger': 3, 'fear': 4, 'surprise': 5}\n"
          ]
        }
      ]
    },
    {
      "cell_type": "code",
      "source": [
        "# Получение данных о твитах и эмоциях\n",
        "tweets, emotions = get_tweet_data(train)\n",
        "\n",
        "# Вывод первых 10 твитов и соответствующих эмоций\n",
        "print(tweets[:10])\n",
        "print(emotions[:10])\n",
        "\n",
        "# Преобразование текстовых твитов в последовательности чисел\n",
        "sequences = tokenizer.texts_to_sequences([tweets[0]])\n",
        "\n",
        "# Выравнивание последовательностей по максимальной длине\n",
        "length = [len(t.split(' ')) for t in tweets]\n",
        "print(length[:10])\n"
      ],
      "metadata": {
        "colab": {
          "base_uri": "https://localhost:8080/"
        },
        "id": "g3SdT3T-g2UR",
        "outputId": "5dbb7074-4b9e-4b91-f145-546686098283"
      },
      "id": "g3SdT3T-g2UR",
      "execution_count": 155,
      "outputs": [
        {
          "output_type": "stream",
          "name": "stdout",
          "text": [
            "['i didnt feel humiliated', 'i can go from feeling so hopeless to so damned hopeful just from being around someone who cares and is awake', 'im grabbing a minute to post i feel greedy wrong', 'i am ever feeling nostalgic about the fireplace i will know that it is still on the property', 'i am feeling grouchy', 'ive been feeling a little burdened lately wasnt sure why that was', 'ive been taking or milligrams or times recommended amount and ive fallen asleep a lot faster but i also feel like so funny', 'i feel as confused about life as a teenager or as jaded as a year old man', 'i have been with petronas for years i feel that petronas has performed well and made a huge profit', 'i feel romantic too']\n",
            "[0, 0, 3, 2, 3, 0, 5, 4, 1, 2]\n",
            "[4, 21, 10, 18, 4, 12, 23, 17, 19, 4]\n"
          ]
        }
      ]
    },
    {
      "cell_type": "code",
      "execution_count": 155,
      "id": "6c99a4d8",
      "metadata": {
        "execution": {
          "iopub.execute_input": "2022-06-01T11:44:52.197079Z",
          "iopub.status.busy": "2022-06-01T11:44:52.196376Z",
          "iopub.status.idle": "2022-06-01T11:44:52.199942Z",
          "shell.execute_reply": "2022-06-01T11:44:52.199245Z",
          "shell.execute_reply.started": "2022-06-01T11:32:44.397176Z"
        },
        "id": "6c99a4d8",
        "papermill": {
          "duration": 0.05429,
          "end_time": "2022-06-01T11:44:52.200091",
          "exception": false,
          "start_time": "2022-06-01T11:44:52.145801",
          "status": "completed"
        },
        "tags": []
      },
      "outputs": [],
      "source": []
    },
    {
      "cell_type": "code",
      "execution_count": 156,
      "id": "8429a3f0",
      "metadata": {
        "execution": {
          "iopub.execute_input": "2022-06-01T11:44:55.305849Z",
          "iopub.status.busy": "2022-06-01T11:44:55.304897Z",
          "iopub.status.idle": "2022-06-01T11:44:55.307906Z",
          "shell.execute_reply": "2022-06-01T11:44:55.308424Z",
          "shell.execute_reply.started": "2022-06-01T11:32:46.404233Z"
        },
        "id": "8429a3f0",
        "outputId": "93e17ab8-0333-4763-bf14-eeac664bf5e0",
        "papermill": {
          "duration": 0.055037,
          "end_time": "2022-06-01T11:44:55.308629",
          "exception": false,
          "start_time": "2022-06-01T11:44:55.253592",
          "status": "completed"
        },
        "tags": [],
        "colab": {
          "base_uri": "https://localhost:8080/"
        }
      },
      "outputs": [
        {
          "output_type": "stream",
          "name": "stdout",
          "text": [
            "19.1663125\n"
          ]
        }
      ],
      "source": [
        "# Вычисление средней длины твитов\n",
        "def get_average(data):\n",
        "    count = 0\n",
        "    d_len = 0\n",
        "    for d in data:\n",
        "        d_len = d_len + len(d.split(' '))\n",
        "        count = count + 1\n",
        "    avg = d_len / count\n",
        "    return avg\n",
        "\n",
        "average_length = get_average(tweets)\n",
        "print(average_length)"
      ]
    },
    {
      "cell_type": "code",
      "execution_count": 157,
      "id": "e8a358cf",
      "metadata": {
        "execution": {
          "iopub.execute_input": "2022-06-01T11:44:55.401228Z",
          "iopub.status.busy": "2022-06-01T11:44:55.400408Z",
          "iopub.status.idle": "2022-06-01T11:44:55.425904Z",
          "shell.execute_reply": "2022-06-01T11:44:55.426525Z",
          "shell.execute_reply.started": "2022-06-01T11:32:46.411340Z"
        },
        "id": "e8a358cf",
        "outputId": "e9a2a2d9-1cc8-45ee-b409-34f049b29052",
        "papermill": {
          "duration": 0.074661,
          "end_time": "2022-06-01T11:44:55.426752",
          "exception": false,
          "start_time": "2022-06-01T11:44:55.352091",
          "status": "completed"
        },
        "tags": [],
        "colab": {
          "base_uri": "https://localhost:8080/",
          "height": 1000
        }
      },
      "outputs": [
        {
          "output_type": "stream",
          "name": "stdout",
          "text": [
            "[[   2  139    3  679    0    0    0    0    0    0    0    0    0    0\n",
            "     0    0    0    0    0    0    0    0    0    0    0    0    0    0\n",
            "     0    0    0    0    0    0    0    0    0    0    0    0    0    0\n",
            "     0    0    0    0    0    0    0    0    0    0    0    0]\n",
            " [   2   40  101   60    8   15  494    5   15 3496  553   32   60   61\n",
            "   128  148   76 1480    4   22 1255    0    0    0    0    0    0    0\n",
            "     0    0    0    0    0    0    0    0    0    0    0    0    0    0\n",
            "     0    0    0    0    0    0    0    0    0    0    0    0]\n",
            " [  17 3060    7 1149    5  286    2    3  495  438    0    0    0    0\n",
            "     0    0    0    0    0    0    0    0    0    0    0    0    0    0\n",
            "     0    0    0    0    0    0    0    0    0    0    0    0    0    0\n",
            "     0    0    0    0    0    0    0    0    0    0    0    0]\n",
            " [   2   24  165    8  665   27    6 4158    2   59   47    9   13   22\n",
            "    72   30    6 3497    0    0    0    0    0    0    0    0    0    0\n",
            "     0    0    0    0    0    0    0    0    0    0    0    0    0    0\n",
            "     0    0    0    0    0    0    0    0    0    0    0    0]\n",
            " [   2   24    8 1065    0    0    0    0    0    0    0    0    0    0\n",
            "     0    0    0    0    0    0    0    0    0    0    0    0    0    0\n",
            "     0    0    0    0    0    0    0    0    0    0    0    0    0    0\n",
            "     0    0    0    0    0    0    0    0    0    0    0    0]\n",
            " [  73   48    8    7   56  521  319  328  158  161    9   20    0    0\n",
            "     0    0    0    0    0    0    0    0    0    0    0    0    0    0\n",
            "     0    0    0    0    0    0    0    0    0    0    0    0    0    0\n",
            "     0    0    0    0    0    0    0    0    0    0    0    0]\n",
            " [  73   48  329   35 7401   35  196 7402  888    4   73 2475 1384    7\n",
            "   159 1885   19    2  117    3   14   15  455    0    0    0    0    0\n",
            "     0    0    0    0    0    0    0    0    0    0    0    0    0    0\n",
            "     0    0    0    0    0    0    0    0    0    0    0    0]\n",
            " [   2    3   29  439   27   78   29    7 1686   35   29  760   29    7\n",
            "   193  267  374    0    0    0    0    0    0    0    0    0    0    0\n",
            "     0    0    0    0    0    0    0    0    0    0    0    0    0    0\n",
            "     0    0    0    0    0    0    0    0    0    0    0    0]\n",
            " [   2   21   48   25 5260   16  215    2    3    9 5260   99 5261  135\n",
            "     4  132    7 1038 4159    0    0    0    0    0    0    0    0    0\n",
            "     0    0    0    0    0    0    0    0    0    0    0    0    0    0\n",
            "     0    0    0    0    0    0    0    0    0    0    0    0]]\n"
          ]
        },
        {
          "output_type": "display_data",
          "data": {
            "text/plain": [
              "<Figure size 640x480 with 1 Axes>"
            ],
            "image/png": "[encoded data removed]"
          },
          "metadata": {}
        }
      ],
      "source": [
        "# Визуализация длины твитов с помощью гистограммы\n",
        "plt.hist(length, bins=len(set(length)))\n",
        "\n",
        "# Преобразование текстовых данных в последовательности чисел и выравнивание по максимальной длине\n",
        "def make_sequences(tokenizer, data):\n",
        "    sequences = tokenizer.texts_to_sequences(data)\n",
        "    padded_sequences = pad_sequences(sequences, truncating='post', padding='post', maxlen=max_len)\n",
        "    return padded_sequences\n",
        "\n",
        "padded_train_sequences = make_sequences(tokenizer, tweets)\n",
        "print(padded_train_sequences[:9])"
      ]
    },
    {
      "cell_type": "code",
      "execution_count": 158,
      "id": "5bd1a7fc",
      "metadata": {
        "execution": {
          "iopub.execute_input": "2022-06-01T11:44:55.521737Z",
          "iopub.status.busy": "2022-06-01T11:44:55.518256Z",
          "iopub.status.idle": "2022-06-01T11:44:55.523908Z",
          "shell.execute_reply": "2022-06-01T11:44:55.524540Z",
          "shell.execute_reply.started": "2022-06-01T11:32:46.461034Z"
        },
        "id": "5bd1a7fc",
        "papermill": {
          "duration": 0.0539,
          "end_time": "2022-06-01T11:44:55.524745",
          "exception": false,
          "start_time": "2022-06-01T11:44:55.470845",
          "status": "completed"
        },
        "tags": [],
        "colab": {
          "base_uri": "https://localhost:8080/",
          "height": 486
        },
        "outputId": "13af3da3-f412-415c-e23c-1b438eac402a"
      },
      "outputs": [
        {
          "output_type": "stream",
          "name": "stdout",
          "text": [
            "{0, 1, 2, 3, 4, 5}\n",
            "{0: 0, 1: 1, 2: 2, 3: 3, 4: 4, 5: 5}\n",
            "{0: 0, 1: 1, 2: 2, 3: 3, 4: 4, 5: 5}\n"
          ]
        },
        {
          "output_type": "display_data",
          "data": {
            "text/plain": [
              "<Figure size 640x480 with 1 Axes>"
            ],
            "image/png": "[encoded data removed]"
          },
          "metadata": {}
        }
      ],
      "source": [
        "# Преобразование эмоций в числовой формат\n",
        "classes = set(emotions)\n",
        "print(classes)\n",
        "\n",
        "# Визуализация количества твитов для каждой эмоции с помощью гистограммы\n",
        "plt.hist(emotions, bins=11)\n",
        "\n",
        "# Создание словарей для преобразования эмоций в числовой формат и наоборот\n",
        "classes_to_index = dict((c, i) for i, c in enumerate(classes))\n",
        "index_to_class = dict((v, k) for k, v in classes_to_index.items())\n",
        "print(classes_to_index)\n",
        "print(index_to_class)"
      ]
    },
    {
      "cell_type": "code",
      "execution_count": 159,
      "id": "5461d94e",
      "metadata": {
        "execution": {
          "iopub.execute_input": "2022-06-01T11:44:55.622514Z",
          "iopub.status.busy": "2022-06-01T11:44:55.621728Z",
          "iopub.status.idle": "2022-06-01T11:44:55.648014Z",
          "shell.execute_reply": "2022-06-01T11:44:55.648648Z",
          "shell.execute_reply.started": "2022-06-01T11:32:46.467982Z"
        },
        "id": "5461d94e",
        "papermill": {
          "duration": 0.076977,
          "end_time": "2022-06-01T11:44:55.648855",
          "exception": false,
          "start_time": "2022-06-01T11:44:55.571878",
          "status": "completed"
        },
        "tags": []
      },
      "outputs": [],
      "source": [
        "# Функция для преобразования эмоций в числовой формат\n",
        "names_to_ids = lambda emotions: np.array([classes_to_index.get(x) for x in emotions])\n",
        "\n",
        "train_labels = names_to_ids(emotions)\n"
      ]
    },
    {
      "cell_type": "code",
      "execution_count": 160,
      "id": "86794bbc",
      "metadata": {
        "execution": {
          "iopub.execute_input": "2022-06-01T11:44:55.741110Z",
          "iopub.status.busy": "2022-06-01T11:44:55.740344Z",
          "iopub.status.idle": "2022-06-01T11:44:56.228780Z",
          "shell.execute_reply": "2022-06-01T11:44:56.228116Z",
          "shell.execute_reply.started": "2022-06-01T11:32:46.498042Z"
        },
        "id": "86794bbc",
        "papermill": {
          "duration": 0.536185,
          "end_time": "2022-06-01T11:44:56.228952",
          "exception": false,
          "start_time": "2022-06-01T11:44:55.692767",
          "status": "completed"
        },
        "tags": []
      },
      "outputs": [],
      "source": [
        "# Создание модели\n",
        "model = tf.keras.Sequential([\n",
        "    tf.keras.layers.Embedding(10000, 16, input_length=54),\n",
        "    tf.keras.layers.Bidirectional(tf.keras.layers.LSTM(20, return_sequences=True)),\n",
        "    tf.keras.layers.Bidirectional(tf.keras.layers.LSTM(20)),\n",
        "    tf.keras.layers.Dense(6, activation='softmax')\n",
        "], name=\"model_1_Bidirectional_RNN\")"
      ]
    },
    {
      "cell_type": "code",
      "execution_count": 161,
      "id": "66c0ad9a",
      "metadata": {
        "execution": {
          "iopub.execute_input": "2022-06-01T11:44:56.325534Z",
          "iopub.status.busy": "2022-06-01T11:44:56.324581Z",
          "iopub.status.idle": "2022-06-01T11:44:56.330885Z",
          "shell.execute_reply": "2022-06-01T11:44:56.330160Z",
          "shell.execute_reply.started": "2022-06-01T11:32:46.889435Z"
        },
        "id": "66c0ad9a",
        "papermill": {
          "duration": 0.056012,
          "end_time": "2022-06-01T11:44:56.331075",
          "exception": false,
          "start_time": "2022-06-01T11:44:56.275063",
          "status": "completed"
        },
        "tags": []
      },
      "outputs": [],
      "source": [
        "# Вычисление весов классов\n",
        "class_counts = np.bincount(train_labels)  # подсчет количества образцов в каждом классе\n",
        "total_samples = np.sum(class_counts)  # общее количество образцов\n",
        "\n",
        "class_weights = total_samples / (len(class_counts) * class_counts)  # вычисление весов классов\n",
        "\n",
        "class_weights = dict(enumerate(class_weights))"
      ]
    },
    {
      "cell_type": "code",
      "execution_count": 162,
      "id": "c4fded14",
      "metadata": {
        "execution": {
          "iopub.execute_input": "2022-06-01T11:44:56.424051Z",
          "iopub.status.busy": "2022-06-01T11:44:56.423323Z",
          "iopub.status.idle": "2022-06-01T11:44:56.428890Z",
          "shell.execute_reply": "2022-06-01T11:44:56.428314Z",
          "shell.execute_reply.started": "2022-06-01T11:32:46.894854Z"
        },
        "id": "c4fded14",
        "papermill": {
          "duration": 0.053385,
          "end_time": "2022-06-01T11:44:56.429066",
          "exception": false,
          "start_time": "2022-06-01T11:44:56.375681",
          "status": "completed"
        },
        "tags": [],
        "colab": {
          "base_uri": "https://localhost:8080/"
        },
        "outputId": "e323103f-7b87-43de-84ab-2a49f7aebb33"
      },
      "outputs": [
        {
          "output_type": "stream",
          "name": "stdout",
          "text": [
            "Model: \"model_1_Bidirectional_RNN\"\n",
            "_________________________________________________________________\n",
            " Layer (type)                Output Shape              Param #   \n",
            "=================================================================\n",
            " embedding_11 (Embedding)    (None, 54, 16)            160000    \n",
            "                                                                 \n",
            " bidirectional_22 (Bidirecti  (None, 54, 40)           5920      \n",
            " onal)                                                           \n",
            "                                                                 \n",
            " bidirectional_23 (Bidirecti  (None, 40)               9760      \n",
            " onal)                                                           \n",
            "                                                                 \n",
            " dense_11 (Dense)            (None, 6)                 246       \n",
            "                                                                 \n",
            "=================================================================\n",
            "Total params: 175,926\n",
            "Trainable params: 175,926\n",
            "Non-trainable params: 0\n",
            "_________________________________________________________________\n"
          ]
        }
      ],
      "source": [
        "# Компиляция модели с использованием взвешенных классов\n",
        "model.compile(loss='sparse_categorical_crossentropy', optimizer=tf.keras.optimizers.Adam(), metrics=['accuracy'])\n",
        "\n",
        "model.summary()"
      ]
    },
    {
      "cell_type": "code",
      "execution_count": 163,
      "id": "22914ef6",
      "metadata": {
        "execution": {
          "iopub.execute_input": "2022-06-01T11:44:56.530114Z",
          "iopub.status.busy": "2022-06-01T11:44:56.528930Z",
          "iopub.status.idle": "2022-06-01T11:44:57.322331Z",
          "shell.execute_reply": "2022-06-01T11:44:57.322956Z",
          "shell.execute_reply.started": "2022-06-01T11:32:46.910593Z"
        },
        "id": "22914ef6",
        "papermill": {
          "duration": 0.848827,
          "end_time": "2022-06-01T11:44:57.323166",
          "exception": false,
          "start_time": "2022-06-01T11:44:56.474339",
          "status": "completed"
        },
        "tags": []
      },
      "outputs": [],
      "source": [
        "val_tweets, val_emotions = get_tweet_data(val)\n",
        "val_sequences = make_sequences(tokenizer, val_tweets)\n",
        "val_labels = names_to_ids(val_emotions)"
      ]
    },
    {
      "cell_type": "code",
      "execution_count": 164,
      "id": "ad0fa8de",
      "metadata": {
        "execution": {
          "iopub.execute_input": "2022-06-01T11:44:57.427746Z",
          "iopub.status.busy": "2022-06-01T11:44:57.423494Z",
          "iopub.status.idle": "2022-06-01T11:44:57.431314Z",
          "shell.execute_reply": "2022-06-01T11:44:57.431843Z",
          "shell.execute_reply.started": "2022-06-01T11:32:47.415790Z"
        },
        "id": "ad0fa8de",
        "outputId": "9ed7863d-1d50-498a-cd43-a7f6458d18c0",
        "papermill": {
          "duration": 0.060184,
          "end_time": "2022-06-01T11:44:57.432052",
          "exception": false,
          "start_time": "2022-06-01T11:44:57.371868",
          "status": "completed"
        },
        "tags": [],
        "colab": {
          "base_uri": "https://localhost:8080/"
        }
      },
      "outputs": [
        {
          "output_type": "stream",
          "name": "stdout",
          "text": [
            "Твит: im feeling quite sad and sorry for myself but ill snap out of it soon\n",
            "Последовательность: [ 17   8 157 260   4 343  16  51  19 212   1  50  10  13 533   0   0   0\n",
            "   0   0   0   0   0   0   0   0   0   0   0   0   0   0   0   0   0   0\n",
            "   0   0   0   0   0   0   0   0   0   0   0   0   0   0   0   0   0   0]\n",
            "Эмоция: 0\n"
          ]
        }
      ],
      "source": [
        "# Проверка твитов, их последовательностей и эмоций\n",
        "print(\"Твит:\", val_tweets[0])\n",
        "print(\"Последовательность:\", val_sequences[0])\n",
        "print(\"Эмоция:\", val_labels[0])"
      ]
    },
    {
      "cell_type": "code",
      "execution_count": 165,
      "id": "dead9eb1",
      "metadata": {
        "execution": {
          "iopub.execute_input": "2022-06-01T11:44:57.528927Z",
          "iopub.status.busy": "2022-06-01T11:44:57.527814Z",
          "iopub.status.idle": "2022-06-01T11:44:57.862338Z",
          "shell.execute_reply": "2022-06-01T11:44:57.862924Z",
          "shell.execute_reply.started": "2022-06-01T11:32:47.424776Z"
        },
        "id": "dead9eb1",
        "outputId": "0258fa03-8d9f-4511-81a3-c79a3e6bb152",
        "papermill": {
          "duration": 0.385426,
          "end_time": "2022-06-01T11:44:57.863216",
          "exception": false,
          "start_time": "2022-06-01T11:44:57.477790",
          "status": "completed"
        },
        "tags": [],
        "colab": {
          "base_uri": "https://localhost:8080/"
        }
      },
      "outputs": [
        {
          "output_type": "stream",
          "name": "stdout",
          "text": [
            "Epoch 1/20\n",
            "500/500 [==============================] - ETA: 0s - loss: 1.3540 - accuracy: 0.4783"
          ]
        },
        {
          "output_type": "stream",
          "name": "stderr",
          "text": [
            "WARNING:absl:Found untraced functions such as _update_step_xla, lstm_cell_79_layer_call_fn, lstm_cell_79_layer_call_and_return_conditional_losses, lstm_cell_80_layer_call_fn, lstm_cell_80_layer_call_and_return_conditional_losses while saving (showing 5 of 9). These functions will not be directly callable after loading.\n"
          ]
        },
        {
          "output_type": "stream",
          "name": "stdout",
          "text": [
            "\b\b\b\b\b\b\b\b\b\b\b\b\b\b\b\b\b\b\b\b\b\b\b\b\b\b\b\b\b\b\b\b\b\b\b\b\b\b\b\b\b\b\b\b\b\b\b\b\b\b\b\b\b\b\b\b\b\b\b\b\b\b\b\b\b\b\b\b\b\b\b\b\b\b\b\b\b\b\b\b\b\b\b\b\r500/500 [==============================] - 141s 263ms/step - loss: 1.3540 - accuracy: 0.4783 - val_loss: 0.9144 - val_accuracy: 0.6840\n",
            "Epoch 2/20\n",
            "500/500 [==============================] - ETA: 0s - loss: 0.6316 - accuracy: 0.7843"
          ]
        },
        {
          "output_type": "stream",
          "name": "stderr",
          "text": [
            "WARNING:absl:Found untraced functions such as _update_step_xla, lstm_cell_79_layer_call_fn, lstm_cell_79_layer_call_and_return_conditional_losses, lstm_cell_80_layer_call_fn, lstm_cell_80_layer_call_and_return_conditional_losses while saving (showing 5 of 9). These functions will not be directly callable after loading.\n"
          ]
        },
        {
          "output_type": "stream",
          "name": "stdout",
          "text": [
            "\b\b\b\b\b\b\b\b\b\b\b\b\b\b\b\b\b\b\b\b\b\b\b\b\b\b\b\b\b\b\b\b\b\b\b\b\b\b\b\b\b\b\b\b\b\b\b\b\b\b\b\b\b\b\b\b\b\b\b\b\b\b\b\b\b\b\b\b\b\b\b\b\b\b\b\b\b\b\b\b\b\b\b\b\r500/500 [==============================] - 79s 158ms/step - loss: 0.6316 - accuracy: 0.7843 - val_loss: 0.5415 - val_accuracy: 0.8125\n",
            "Epoch 3/20\n",
            "500/500 [==============================] - ETA: 0s - loss: 0.3576 - accuracy: 0.8852"
          ]
        },
        {
          "output_type": "stream",
          "name": "stderr",
          "text": [
            "WARNING:absl:Found untraced functions such as _update_step_xla, lstm_cell_79_layer_call_fn, lstm_cell_79_layer_call_and_return_conditional_losses, lstm_cell_80_layer_call_fn, lstm_cell_80_layer_call_and_return_conditional_losses while saving (showing 5 of 9). These functions will not be directly callable after loading.\n"
          ]
        },
        {
          "output_type": "stream",
          "name": "stdout",
          "text": [
            "\b\b\b\b\b\b\b\b\b\b\b\b\b\b\b\b\b\b\b\b\b\b\b\b\b\b\b\b\b\b\b\b\b\b\b\b\b\b\b\b\b\b\b\b\b\b\b\b\b\b\b\b\b\b\b\b\b\b\b\b\b\b\b\b\b\b\b\b\b\b\b\b\b\b\b\b\b\b\b\b\b\b\b\b\r500/500 [==============================] - 68s 136ms/step - loss: 0.3576 - accuracy: 0.8852 - val_loss: 0.4410 - val_accuracy: 0.8605\n",
            "Epoch 4/20\n",
            "500/500 [==============================] - ETA: 0s - loss: 0.2223 - accuracy: 0.9323"
          ]
        },
        {
          "output_type": "stream",
          "name": "stderr",
          "text": [
            "WARNING:absl:Found untraced functions such as _update_step_xla, lstm_cell_79_layer_call_fn, lstm_cell_79_layer_call_and_return_conditional_losses, lstm_cell_80_layer_call_fn, lstm_cell_80_layer_call_and_return_conditional_losses while saving (showing 5 of 9). These functions will not be directly callable after loading.\n"
          ]
        },
        {
          "output_type": "stream",
          "name": "stdout",
          "text": [
            "\b\b\b\b\b\b\b\b\b\b\b\b\b\b\b\b\b\b\b\b\b\b\b\b\b\b\b\b\b\b\b\b\b\b\b\b\b\b\b\b\b\b\b\b\b\b\b\b\b\b\b\b\b\b\b\b\b\b\b\b\b\b\b\b\b\b\b\b\b\b\b\b\b\b\b\b\b\b\b\b\b\b\b\b\r500/500 [==============================] - 72s 144ms/step - loss: 0.2223 - accuracy: 0.9323 - val_loss: 0.3834 - val_accuracy: 0.8825\n",
            "Epoch 5/20\n",
            "500/500 [==============================] - 36s 71ms/step - loss: 0.1638 - accuracy: 0.9502 - val_loss: 0.3852 - val_accuracy: 0.8820\n",
            "Epoch 6/20\n",
            "500/500 [==============================] - 35s 71ms/step - loss: 0.1201 - accuracy: 0.9611 - val_loss: 0.3935 - val_accuracy: 0.8890\n",
            "Epoch 7/20\n",
            "500/500 [==============================] - 40s 80ms/step - loss: 0.0956 - accuracy: 0.9701 - val_loss: 0.4052 - val_accuracy: 0.8905\n",
            "Epoch 8/20\n",
            "500/500 [==============================] - 36s 73ms/step - loss: 0.0817 - accuracy: 0.9732 - val_loss: 0.4171 - val_accuracy: 0.8810\n",
            "Epoch 9/20\n",
            "500/500 [==============================] - 40s 80ms/step - loss: 0.0731 - accuracy: 0.9774 - val_loss: 0.4160 - val_accuracy: 0.8845\n",
            "Epoch 10/20\n",
            "500/500 [==============================] - 36s 72ms/step - loss: 0.0583 - accuracy: 0.9812 - val_loss: 0.4406 - val_accuracy: 0.8870\n",
            "Epoch 11/20\n",
            "500/500 [==============================] - 35s 71ms/step - loss: 0.0546 - accuracy: 0.9822 - val_loss: 0.4448 - val_accuracy: 0.8925\n",
            "Epoch 12/20\n",
            "500/500 [==============================] - 38s 76ms/step - loss: 0.0498 - accuracy: 0.9839 - val_loss: 0.4717 - val_accuracy: 0.8795\n",
            "Epoch 13/20\n",
            "500/500 [==============================] - 38s 76ms/step - loss: 0.0395 - accuracy: 0.9876 - val_loss: 0.5120 - val_accuracy: 0.8865\n",
            "Epoch 14/20\n",
            "500/500 [==============================] - 35s 71ms/step - loss: 0.0416 - accuracy: 0.9874 - val_loss: 0.5032 - val_accuracy: 0.8795\n",
            "Epoch 15/20\n",
            "500/500 [==============================] - 38s 76ms/step - loss: 0.0367 - accuracy: 0.9877 - val_loss: 0.4863 - val_accuracy: 0.8780\n",
            "Epoch 16/20\n",
            "500/500 [==============================] - 35s 71ms/step - loss: 0.0352 - accuracy: 0.9880 - val_loss: 0.4991 - val_accuracy: 0.8855\n",
            "Epoch 17/20\n",
            "500/500 [==============================] - 35s 71ms/step - loss: 0.0305 - accuracy: 0.9897 - val_loss: 0.4984 - val_accuracy: 0.8920\n",
            "Epoch 18/20\n",
            "500/500 [==============================] - 41s 82ms/step - loss: 0.0309 - accuracy: 0.9898 - val_loss: 0.5172 - val_accuracy: 0.8885\n",
            "Epoch 19/20\n",
            "500/500 [==============================] - 36s 72ms/step - loss: 0.0279 - accuracy: 0.9904 - val_loss: 0.5097 - val_accuracy: 0.8860\n",
            "Epoch 20/20\n",
            "500/500 [==============================] - 38s 75ms/step - loss: 0.0211 - accuracy: 0.9923 - val_loss: 0.5369 - val_accuracy: 0.8820\n"
          ]
        }
      ],
      "source": [
        "# Обучение модели\n",
        "m1 = model.fit(padded_train_seq, train_labels, epochs=20, validation_data=(val_sequences, val_labels),\n",
        "               callbacks=[create_model_checkpoint(model_name=model.name)])\n"
      ]
    },
    {
      "cell_type": "code",
      "source": [
        "import pickle\n",
        "\n",
        "with open('m1.pkl', 'wb') as f:\n",
        "    pickle.dump(m1.history, f)"
      ],
      "metadata": {
        "id": "FwQM3VZeR_H2"
      },
      "id": "FwQM3VZeR_H2",
      "execution_count": 189,
      "outputs": []
    },
    {
      "cell_type": "code",
      "execution_count": 188,
      "id": "055d6f06",
      "metadata": {
        "execution": {
          "iopub.execute_input": "2022-06-01T11:44:57.963799Z",
          "iopub.status.busy": "2022-06-01T11:44:57.962971Z",
          "iopub.status.idle": "2022-06-01T11:44:57.969760Z",
          "shell.execute_reply": "2022-06-01T11:44:57.970366Z",
          "shell.execute_reply.started": "2022-06-01T11:32:47.696180Z"
        },
        "id": "055d6f06",
        "outputId": "9fd3b2b7-1c91-48fe-9db5-a11f96045a8f",
        "papermill": {
          "duration": 0.058851,
          "end_time": "2022-06-01T11:44:57.970574",
          "exception": false,
          "start_time": "2022-06-01T11:44:57.911723",
          "status": "completed"
        },
        "tags": [],
        "colab": {
          "base_uri": "https://localhost:8080/",
          "height": 1000
        }
      },
      "outputs": [
        {
          "output_type": "display_data",
          "data": {
            "text/html": [
              "<html>\n",
              "<head><meta charset=\"utf-8\" /></head>\n",
              "<body>\n",
              "    <div>            <script src=\"https://cdnjs.cloudflare.com/ajax/libs/mathjax/2.7.5/MathJax.js?config=TeX-AMS-MML_SVG\"></script><script type=\"text/javascript\">if (window.MathJax && window.MathJax.Hub && window.MathJax.Hub.Config) {window.MathJax.Hub.Config({SVG: {font: \"STIX-Web\"}});}</script>                <script type=\"text/javascript\">window.PlotlyConfig = {MathJaxConfig: 'local'};</script>\n",
              "        <script src=\"https://cdn.plot.ly/plotly-2.18.2.min.js\"></script>                <div id=\"f4965cca-7277-44eb-936f-e13ac70dfa03\" class=\"plotly-graph-div\" style=\"height:525px; width:100%;\"></div>            <script type=\"text/javascript\">                                    window.PLOTLYENV=window.PLOTLYENV || {};                                    if (document.getElementById(\"f4965cca-7277-44eb-936f-e13ac70dfa03\")) {                    Plotly.newPlot(                        \"f4965cca-7277-44eb-936f-e13ac70dfa03\",                        [{\"hovertemplate\":\"variable=loss<br>\\u044d\\u043f\\u043e\\u0445\\u0430=%{x}<br>\\u0437\\u043d\\u0430\\u0447\\u0435\\u043d\\u0438\\u0435 \\u043f\\u043e\\u0442\\u0435\\u0440\\u044c=%{y}<extra></extra>\",\"legendgroup\":\"loss\",\"line\":{\"color\":\"#636efa\",\"dash\":\"solid\"},\"marker\":{\"symbol\":\"circle\"},\"mode\":\"lines\",\"name\":\"loss\",\"orientation\":\"v\",\"showlegend\":true,\"x\":[0,1,2,3,4,5,6,7,8,9,10,11,12,13,14,15,16,17,18,19],\"xaxis\":\"x\",\"y\":[1.3539702892303467,0.6316120028495789,0.35761508345603943,0.22233659029006958,0.163751021027565,0.12010756134986877,0.09558964520692825,0.0817306637763977,0.07314254343509674,0.058313705027103424,0.054559316486120224,0.04980726167559624,0.039478108286857605,0.04158717021346092,0.03672020882368088,0.035204675048589706,0.030499950051307678,0.030855901539325714,0.02794702723622322,0.021096253767609596],\"yaxis\":\"y\",\"type\":\"scatter\"},{\"hovertemplate\":\"variable=val_loss<br>\\u044d\\u043f\\u043e\\u0445\\u0430=%{x}<br>\\u0437\\u043d\\u0430\\u0447\\u0435\\u043d\\u0438\\u0435 \\u043f\\u043e\\u0442\\u0435\\u0440\\u044c=%{y}<extra></extra>\",\"legendgroup\":\"val_loss\",\"line\":{\"color\":\"#EF553B\",\"dash\":\"solid\"},\"marker\":{\"symbol\":\"circle\"},\"mode\":\"lines\",\"name\":\"val_loss\",\"orientation\":\"v\",\"showlegend\":true,\"x\":[0,1,2,3,4,5,6,7,8,9,10,11,12,13,14,15,16,17,18,19],\"xaxis\":\"x\",\"y\":[0.9143626689910889,0.5414643287658691,0.44098690152168274,0.3834168314933777,0.3852403461933136,0.39349111914634705,0.4051814675331116,0.4170559346675873,0.41600751876831055,0.4405990540981293,0.4447835683822632,0.4716934263706207,0.5119830965995789,0.5032126307487488,0.48625096678733826,0.499148964881897,0.4984077215194702,0.5172333121299744,0.5097241401672363,0.5368975400924683],\"yaxis\":\"y\",\"type\":\"scatter\"}],                        {\"template\":{\"data\":{\"histogram2dcontour\":[{\"type\":\"histogram2dcontour\",\"colorbar\":{\"outlinewidth\":0,\"ticks\":\"\"},\"colorscale\":[[0.0,\"#0d0887\"],[0.1111111111111111,\"#46039f\"],[0.2222222222222222,\"#7201a8\"],[0.3333333333333333,\"#9c179e\"],[0.4444444444444444,\"#bd3786\"],[0.5555555555555556,\"#d8576b\"],[0.6666666666666666,\"#ed7953\"],[0.7777777777777778,\"#fb9f3a\"],[0.8888888888888888,\"#fdca26\"],[1.0,\"#f0f921\"]]}],\"choropleth\":[{\"type\":\"choropleth\",\"colorbar\":{\"outlinewidth\":0,\"ticks\":\"\"}}],\"histogram2d\":[{\"type\":\"histogram2d\",\"colorbar\":{\"outlinewidth\":0,\"ticks\":\"\"},\"colorscale\":[[0.0,\"#0d0887\"],[0.1111111111111111,\"#46039f\"],[0.2222222222222222,\"#7201a8\"],[0.3333333333333333,\"#9c179e\"],[0.4444444444444444,\"#bd3786\"],[0.5555555555555556,\"#d8576b\"],[0.6666666666666666,\"#ed7953\"],[0.7777777777777778,\"#fb9f3a\"],[0.8888888888888888,\"#fdca26\"],[1.0,\"#f0f921\"]]}],\"heatmap\":[{\"type\":\"heatmap\",\"colorbar\":{\"outlinewidth\":0,\"ticks\":\"\"},\"colorscale\":[[0.0,\"#0d0887\"],[0.1111111111111111,\"#46039f\"],[0.2222222222222222,\"#7201a8\"],[0.3333333333333333,\"#9c179e\"],[0.4444444444444444,\"#bd3786\"],[0.5555555555555556,\"#d8576b\"],[0.6666666666666666,\"#ed7953\"],[0.7777777777777778,\"#fb9f3a\"],[0.8888888888888888,\"#fdca26\"],[1.0,\"#f0f921\"]]}],\"heatmapgl\":[{\"type\":\"heatmapgl\",\"colorbar\":{\"outlinewidth\":0,\"ticks\":\"\"},\"colorscale\":[[0.0,\"#0d0887\"],[0.1111111111111111,\"#46039f\"],[0.2222222222222222,\"#7201a8\"],[0.3333333333333333,\"#9c179e\"],[0.4444444444444444,\"#bd3786\"],[0.5555555555555556,\"#d8576b\"],[0.6666666666666666,\"#ed7953\"],[0.7777777777777778,\"#fb9f3a\"],[0.8888888888888888,\"#fdca26\"],[1.0,\"#f0f921\"]]}],\"contourcarpet\":[{\"type\":\"contourcarpet\",\"colorbar\":{\"outlinewidth\":0,\"ticks\":\"\"}}],\"contour\":[{\"type\":\"contour\",\"colorbar\":{\"outlinewidth\":0,\"ticks\":\"\"},\"colorscale\":[[0.0,\"#0d0887\"],[0.1111111111111111,\"#46039f\"],[0.2222222222222222,\"#7201a8\"],[0.3333333333333333,\"#9c179e\"],[0.4444444444444444,\"#bd3786\"],[0.5555555555555556,\"#d8576b\"],[0.6666666666666666,\"#ed7953\"],[0.7777777777777778,\"#fb9f3a\"],[0.8888888888888888,\"#fdca26\"],[1.0,\"#f0f921\"]]}],\"surface\":[{\"type\":\"surface\",\"colorbar\":{\"outlinewidth\":0,\"ticks\":\"\"},\"colorscale\":[[0.0,\"#0d0887\"],[0.1111111111111111,\"#46039f\"],[0.2222222222222222,\"#7201a8\"],[0.3333333333333333,\"#9c179e\"],[0.4444444444444444,\"#bd3786\"],[0.5555555555555556,\"#d8576b\"],[0.6666666666666666,\"#ed7953\"],[0.7777777777777778,\"#fb9f3a\"],[0.8888888888888888,\"#fdca26\"],[1.0,\"#f0f921\"]]}],\"mesh3d\":[{\"type\":\"mesh3d\",\"colorbar\":{\"outlinewidth\":0,\"ticks\":\"\"}}],\"scatter\":[{\"fillpattern\":{\"fillmode\":\"overlay\",\"size\":10,\"solidity\":0.2},\"type\":\"scatter\"}],\"parcoords\":[{\"type\":\"parcoords\",\"line\":{\"colorbar\":{\"outlinewidth\":0,\"ticks\":\"\"}}}],\"scatterpolargl\":[{\"type\":\"scatterpolargl\",\"marker\":{\"colorbar\":{\"outlinewidth\":0,\"ticks\":\"\"}}}],\"bar\":[{\"error_x\":{\"color\":\"#2a3f5f\"},\"error_y\":{\"color\":\"#2a3f5f\"},\"marker\":{\"line\":{\"color\":\"#E5ECF6\",\"width\":0.5},\"pattern\":{\"fillmode\":\"overlay\",\"size\":10,\"solidity\":0.2}},\"type\":\"bar\"}],\"scattergeo\":[{\"type\":\"scattergeo\",\"marker\":{\"colorbar\":{\"outlinewidth\":0,\"ticks\":\"\"}}}],\"scatterpolar\":[{\"type\":\"scatterpolar\",\"marker\":{\"colorbar\":{\"outlinewidth\":0,\"ticks\":\"\"}}}],\"histogram\":[{\"marker\":{\"pattern\":{\"fillmode\":\"overlay\",\"size\":10,\"solidity\":0.2}},\"type\":\"histogram\"}],\"scattergl\":[{\"type\":\"scattergl\",\"marker\":{\"colorbar\":{\"outlinewidth\":0,\"ticks\":\"\"}}}],\"scatter3d\":[{\"type\":\"scatter3d\",\"line\":{\"colorbar\":{\"outlinewidth\":0,\"ticks\":\"\"}},\"marker\":{\"colorbar\":{\"outlinewidth\":0,\"ticks\":\"\"}}}],\"scattermapbox\":[{\"type\":\"scattermapbox\",\"marker\":{\"colorbar\":{\"outlinewidth\":0,\"ticks\":\"\"}}}],\"scatterternary\":[{\"type\":\"scatterternary\",\"marker\":{\"colorbar\":{\"outlinewidth\":0,\"ticks\":\"\"}}}],\"scattercarpet\":[{\"type\":\"scattercarpet\",\"marker\":{\"colorbar\":{\"outlinewidth\":0,\"ticks\":\"\"}}}],\"carpet\":[{\"aaxis\":{\"endlinecolor\":\"#2a3f5f\",\"gridcolor\":\"white\",\"linecolor\":\"white\",\"minorgridcolor\":\"white\",\"startlinecolor\":\"#2a3f5f\"},\"baxis\":{\"endlinecolor\":\"#2a3f5f\",\"gridcolor\":\"white\",\"linecolor\":\"white\",\"minorgridcolor\":\"white\",\"startlinecolor\":\"#2a3f5f\"},\"type\":\"carpet\"}],\"table\":[{\"cells\":{\"fill\":{\"color\":\"#EBF0F8\"},\"line\":{\"color\":\"white\"}},\"header\":{\"fill\":{\"color\":\"#C8D4E3\"},\"line\":{\"color\":\"white\"}},\"type\":\"table\"}],\"barpolar\":[{\"marker\":{\"line\":{\"color\":\"#E5ECF6\",\"width\":0.5},\"pattern\":{\"fillmode\":\"overlay\",\"size\":10,\"solidity\":0.2}},\"type\":\"barpolar\"}],\"pie\":[{\"automargin\":true,\"type\":\"pie\"}]},\"layout\":{\"autotypenumbers\":\"strict\",\"colorway\":[\"#636efa\",\"#EF553B\",\"#00cc96\",\"#ab63fa\",\"#FFA15A\",\"#19d3f3\",\"#FF6692\",\"#B6E880\",\"#FF97FF\",\"#FECB52\"],\"font\":{\"color\":\"#2a3f5f\"},\"hovermode\":\"closest\",\"hoverlabel\":{\"align\":\"left\"},\"paper_bgcolor\":\"white\",\"plot_bgcolor\":\"#E5ECF6\",\"polar\":{\"bgcolor\":\"#E5ECF6\",\"angularaxis\":{\"gridcolor\":\"white\",\"linecolor\":\"white\",\"ticks\":\"\"},\"radialaxis\":{\"gridcolor\":\"white\",\"linecolor\":\"white\",\"ticks\":\"\"}},\"ternary\":{\"bgcolor\":\"#E5ECF6\",\"aaxis\":{\"gridcolor\":\"white\",\"linecolor\":\"white\",\"ticks\":\"\"},\"baxis\":{\"gridcolor\":\"white\",\"linecolor\":\"white\",\"ticks\":\"\"},\"caxis\":{\"gridcolor\":\"white\",\"linecolor\":\"white\",\"ticks\":\"\"}},\"coloraxis\":{\"colorbar\":{\"outlinewidth\":0,\"ticks\":\"\"}},\"colorscale\":{\"sequential\":[[0.0,\"#0d0887\"],[0.1111111111111111,\"#46039f\"],[0.2222222222222222,\"#7201a8\"],[0.3333333333333333,\"#9c179e\"],[0.4444444444444444,\"#bd3786\"],[0.5555555555555556,\"#d8576b\"],[0.6666666666666666,\"#ed7953\"],[0.7777777777777778,\"#fb9f3a\"],[0.8888888888888888,\"#fdca26\"],[1.0,\"#f0f921\"]],\"sequentialminus\":[[0.0,\"#0d0887\"],[0.1111111111111111,\"#46039f\"],[0.2222222222222222,\"#7201a8\"],[0.3333333333333333,\"#9c179e\"],[0.4444444444444444,\"#bd3786\"],[0.5555555555555556,\"#d8576b\"],[0.6666666666666666,\"#ed7953\"],[0.7777777777777778,\"#fb9f3a\"],[0.8888888888888888,\"#fdca26\"],[1.0,\"#f0f921\"]],\"diverging\":[[0,\"#8e0152\"],[0.1,\"#c51b7d\"],[0.2,\"#de77ae\"],[0.3,\"#f1b6da\"],[0.4,\"#fde0ef\"],[0.5,\"#f7f7f7\"],[0.6,\"#e6f5d0\"],[0.7,\"#b8e186\"],[0.8,\"#7fbc41\"],[0.9,\"#4d9221\"],[1,\"#276419\"]]},\"xaxis\":{\"gridcolor\":\"white\",\"linecolor\":\"white\",\"ticks\":\"\",\"title\":{\"standoff\":15},\"zerolinecolor\":\"white\",\"automargin\":true,\"zerolinewidth\":2},\"yaxis\":{\"gridcolor\":\"white\",\"linecolor\":\"white\",\"ticks\":\"\",\"title\":{\"standoff\":15},\"zerolinecolor\":\"white\",\"automargin\":true,\"zerolinewidth\":2},\"scene\":{\"xaxis\":{\"backgroundcolor\":\"#E5ECF6\",\"gridcolor\":\"white\",\"linecolor\":\"white\",\"showbackground\":true,\"ticks\":\"\",\"zerolinecolor\":\"white\",\"gridwidth\":2},\"yaxis\":{\"backgroundcolor\":\"#E5ECF6\",\"gridcolor\":\"white\",\"linecolor\":\"white\",\"showbackground\":true,\"ticks\":\"\",\"zerolinecolor\":\"white\",\"gridwidth\":2},\"zaxis\":{\"backgroundcolor\":\"#E5ECF6\",\"gridcolor\":\"white\",\"linecolor\":\"white\",\"showbackground\":true,\"ticks\":\"\",\"zerolinecolor\":\"white\",\"gridwidth\":2}},\"shapedefaults\":{\"line\":{\"color\":\"#2a3f5f\"}},\"annotationdefaults\":{\"arrowcolor\":\"#2a3f5f\",\"arrowhead\":0,\"arrowwidth\":1},\"geo\":{\"bgcolor\":\"white\",\"landcolor\":\"#E5ECF6\",\"subunitcolor\":\"white\",\"showland\":true,\"showlakes\":true,\"lakecolor\":\"white\"},\"title\":{\"x\":0.05},\"mapbox\":{\"style\":\"light\"}}},\"xaxis\":{\"anchor\":\"y\",\"domain\":[0.0,1.0],\"title\":{\"text\":\"\\u044d\\u043f\\u043e\\u0445\\u0430\"}},\"yaxis\":{\"anchor\":\"x\",\"domain\":[0.0,1.0],\"title\":{\"text\":\"\\u0437\\u043d\\u0430\\u0447\\u0435\\u043d\\u0438\\u0435 \\u043f\\u043e\\u0442\\u0435\\u0440\\u044c\"}},\"legend\":{\"title\":{\"text\":\"\\u0422\\u0438\\u043f\"},\"tracegroupgap\":0},\"margin\":{\"t\":60},\"title\":{\"text\":\"\\u0413\\u0440\\u0430\\u0444\\u0438\\u043a \\u0437\\u043d\\u0430\\u0447\\u0435\\u043d\\u0438\\u0439 \\u043f\\u043e\\u0442\\u0435\\u0440\\u044c\"}},                        {\"responsive\": true}                    ).then(function(){\n",
              "                            \n",
              "var gd = document.getElementById('f4965cca-7277-44eb-936f-e13ac70dfa03');\n",
              "var x = new MutationObserver(function (mutations, observer) {{\n",
              "        var display = window.getComputedStyle(gd).display;\n",
              "        if (!display || display === 'none') {{\n",
              "            console.log([gd, 'removed!']);\n",
              "            Plotly.purge(gd);\n",
              "            observer.disconnect();\n",
              "        }}\n",
              "}});\n",
              "\n",
              "// Listen for the removal of the full notebook cells\n",
              "var notebookContainer = gd.closest('#notebook-container');\n",
              "if (notebookContainer) {{\n",
              "    x.observe(notebookContainer, {childList: true});\n",
              "}}\n",
              "\n",
              "// Listen for the clearing of the current output cell\n",
              "var outputEl = gd.closest('.output');\n",
              "if (outputEl) {{\n",
              "    x.observe(outputEl, {childList: true});\n",
              "}}\n",
              "\n",
              "                        })                };                            </script>        </div>\n",
              "</body>\n",
              "</html>"
            ]
          },
          "metadata": {}
        },
        {
          "output_type": "display_data",
          "data": {
            "text/html": [
              "<html>\n",
              "<head><meta charset=\"utf-8\" /></head>\n",
              "<body>\n",
              "    <div>            <script src=\"https://cdnjs.cloudflare.com/ajax/libs/mathjax/2.7.5/MathJax.js?config=TeX-AMS-MML_SVG\"></script><script type=\"text/javascript\">if (window.MathJax && window.MathJax.Hub && window.MathJax.Hub.Config) {window.MathJax.Hub.Config({SVG: {font: \"STIX-Web\"}});}</script>                <script type=\"text/javascript\">window.PlotlyConfig = {MathJaxConfig: 'local'};</script>\n",
              "        <script src=\"https://cdn.plot.ly/plotly-2.18.2.min.js\"></script>                <div id=\"b950de2c-647b-4712-bee9-5623520521f1\" class=\"plotly-graph-div\" style=\"height:525px; width:100%;\"></div>            <script type=\"text/javascript\">                                    window.PLOTLYENV=window.PLOTLYENV || {};                                    if (document.getElementById(\"b950de2c-647b-4712-bee9-5623520521f1\")) {                    Plotly.newPlot(                        \"b950de2c-647b-4712-bee9-5623520521f1\",                        [{\"hovertemplate\":\"variable=accuracy<br>\\u044d\\u043f\\u043e\\u0445\\u0430=%{x}<br>\\u0442\\u043e\\u0447\\u043d\\u043e\\u0441\\u0442\\u044c=%{y}<extra></extra>\",\"legendgroup\":\"accuracy\",\"line\":{\"color\":\"#636efa\",\"dash\":\"solid\"},\"marker\":{\"symbol\":\"circle\"},\"mode\":\"lines\",\"name\":\"accuracy\",\"orientation\":\"v\",\"showlegend\":true,\"x\":[0,1,2,3,4,5,6,7,8,9,10,11,12,13,14,15,16,17,18,19],\"xaxis\":\"x\",\"y\":[0.47831249237060547,0.784250020980835,0.8851875066757202,0.9323124885559082,0.9501875042915344,0.9611250162124634,0.9701250195503235,0.9731875061988831,0.9774374961853027,0.981249988079071,0.9821875095367432,0.9839375019073486,0.987625002861023,0.9874374866485596,0.9877499938011169,0.9879999756813049,0.9896875023841858,0.9898124933242798,0.9904375076293945,0.992312490940094],\"yaxis\":\"y\",\"type\":\"scatter\"},{\"hovertemplate\":\"variable=val_accuracy<br>\\u044d\\u043f\\u043e\\u0445\\u0430=%{x}<br>\\u0442\\u043e\\u0447\\u043d\\u043e\\u0441\\u0442\\u044c=%{y}<extra></extra>\",\"legendgroup\":\"val_accuracy\",\"line\":{\"color\":\"#EF553B\",\"dash\":\"solid\"},\"marker\":{\"symbol\":\"circle\"},\"mode\":\"lines\",\"name\":\"val_accuracy\",\"orientation\":\"v\",\"showlegend\":true,\"x\":[0,1,2,3,4,5,6,7,8,9,10,11,12,13,14,15,16,17,18,19],\"xaxis\":\"x\",\"y\":[0.6840000152587891,0.8125,0.8604999780654907,0.8824999928474426,0.8820000290870667,0.8889999985694885,0.890500009059906,0.8809999823570251,0.8845000267028809,0.8870000243186951,0.8924999833106995,0.8794999718666077,0.8865000009536743,0.8794999718666077,0.878000020980835,0.8855000138282776,0.8920000195503235,0.8884999752044678,0.8859999775886536,0.8820000290870667],\"yaxis\":\"y\",\"type\":\"scatter\"}],                        {\"template\":{\"data\":{\"histogram2dcontour\":[{\"type\":\"histogram2dcontour\",\"colorbar\":{\"outlinewidth\":0,\"ticks\":\"\"},\"colorscale\":[[0.0,\"#0d0887\"],[0.1111111111111111,\"#46039f\"],[0.2222222222222222,\"#7201a8\"],[0.3333333333333333,\"#9c179e\"],[0.4444444444444444,\"#bd3786\"],[0.5555555555555556,\"#d8576b\"],[0.6666666666666666,\"#ed7953\"],[0.7777777777777778,\"#fb9f3a\"],[0.8888888888888888,\"#fdca26\"],[1.0,\"#f0f921\"]]}],\"choropleth\":[{\"type\":\"choropleth\",\"colorbar\":{\"outlinewidth\":0,\"ticks\":\"\"}}],\"histogram2d\":[{\"type\":\"histogram2d\",\"colorbar\":{\"outlinewidth\":0,\"ticks\":\"\"},\"colorscale\":[[0.0,\"#0d0887\"],[0.1111111111111111,\"#46039f\"],[0.2222222222222222,\"#7201a8\"],[0.3333333333333333,\"#9c179e\"],[0.4444444444444444,\"#bd3786\"],[0.5555555555555556,\"#d8576b\"],[0.6666666666666666,\"#ed7953\"],[0.7777777777777778,\"#fb9f3a\"],[0.8888888888888888,\"#fdca26\"],[1.0,\"#f0f921\"]]}],\"heatmap\":[{\"type\":\"heatmap\",\"colorbar\":{\"outlinewidth\":0,\"ticks\":\"\"},\"colorscale\":[[0.0,\"#0d0887\"],[0.1111111111111111,\"#46039f\"],[0.2222222222222222,\"#7201a8\"],[0.3333333333333333,\"#9c179e\"],[0.4444444444444444,\"#bd3786\"],[0.5555555555555556,\"#d8576b\"],[0.6666666666666666,\"#ed7953\"],[0.7777777777777778,\"#fb9f3a\"],[0.8888888888888888,\"#fdca26\"],[1.0,\"#f0f921\"]]}],\"heatmapgl\":[{\"type\":\"heatmapgl\",\"colorbar\":{\"outlinewidth\":0,\"ticks\":\"\"},\"colorscale\":[[0.0,\"#0d0887\"],[0.1111111111111111,\"#46039f\"],[0.2222222222222222,\"#7201a8\"],[0.3333333333333333,\"#9c179e\"],[0.4444444444444444,\"#bd3786\"],[0.5555555555555556,\"#d8576b\"],[0.6666666666666666,\"#ed7953\"],[0.7777777777777778,\"#fb9f3a\"],[0.8888888888888888,\"#fdca26\"],[1.0,\"#f0f921\"]]}],\"contourcarpet\":[{\"type\":\"contourcarpet\",\"colorbar\":{\"outlinewidth\":0,\"ticks\":\"\"}}],\"contour\":[{\"type\":\"contour\",\"colorbar\":{\"outlinewidth\":0,\"ticks\":\"\"},\"colorscale\":[[0.0,\"#0d0887\"],[0.1111111111111111,\"#46039f\"],[0.2222222222222222,\"#7201a8\"],[0.3333333333333333,\"#9c179e\"],[0.4444444444444444,\"#bd3786\"],[0.5555555555555556,\"#d8576b\"],[0.6666666666666666,\"#ed7953\"],[0.7777777777777778,\"#fb9f3a\"],[0.8888888888888888,\"#fdca26\"],[1.0,\"#f0f921\"]]}],\"surface\":[{\"type\":\"surface\",\"colorbar\":{\"outlinewidth\":0,\"ticks\":\"\"},\"colorscale\":[[0.0,\"#0d0887\"],[0.1111111111111111,\"#46039f\"],[0.2222222222222222,\"#7201a8\"],[0.3333333333333333,\"#9c179e\"],[0.4444444444444444,\"#bd3786\"],[0.5555555555555556,\"#d8576b\"],[0.6666666666666666,\"#ed7953\"],[0.7777777777777778,\"#fb9f3a\"],[0.8888888888888888,\"#fdca26\"],[1.0,\"#f0f921\"]]}],\"mesh3d\":[{\"type\":\"mesh3d\",\"colorbar\":{\"outlinewidth\":0,\"ticks\":\"\"}}],\"scatter\":[{\"fillpattern\":{\"fillmode\":\"overlay\",\"size\":10,\"solidity\":0.2},\"type\":\"scatter\"}],\"parcoords\":[{\"type\":\"parcoords\",\"line\":{\"colorbar\":{\"outlinewidth\":0,\"ticks\":\"\"}}}],\"scatterpolargl\":[{\"type\":\"scatterpolargl\",\"marker\":{\"colorbar\":{\"outlinewidth\":0,\"ticks\":\"\"}}}],\"bar\":[{\"error_x\":{\"color\":\"#2a3f5f\"},\"error_y\":{\"color\":\"#2a3f5f\"},\"marker\":{\"line\":{\"color\":\"#E5ECF6\",\"width\":0.5},\"pattern\":{\"fillmode\":\"overlay\",\"size\":10,\"solidity\":0.2}},\"type\":\"bar\"}],\"scattergeo\":[{\"type\":\"scattergeo\",\"marker\":{\"colorbar\":{\"outlinewidth\":0,\"ticks\":\"\"}}}],\"scatterpolar\":[{\"type\":\"scatterpolar\",\"marker\":{\"colorbar\":{\"outlinewidth\":0,\"ticks\":\"\"}}}],\"histogram\":[{\"marker\":{\"pattern\":{\"fillmode\":\"overlay\",\"size\":10,\"solidity\":0.2}},\"type\":\"histogram\"}],\"scattergl\":[{\"type\":\"scattergl\",\"marker\":{\"colorbar\":{\"outlinewidth\":0,\"ticks\":\"\"}}}],\"scatter3d\":[{\"type\":\"scatter3d\",\"line\":{\"colorbar\":{\"outlinewidth\":0,\"ticks\":\"\"}},\"marker\":{\"colorbar\":{\"outlinewidth\":0,\"ticks\":\"\"}}}],\"scattermapbox\":[{\"type\":\"scattermapbox\",\"marker\":{\"colorbar\":{\"outlinewidth\":0,\"ticks\":\"\"}}}],\"scatterternary\":[{\"type\":\"scatterternary\",\"marker\":{\"colorbar\":{\"outlinewidth\":0,\"ticks\":\"\"}}}],\"scattercarpet\":[{\"type\":\"scattercarpet\",\"marker\":{\"colorbar\":{\"outlinewidth\":0,\"ticks\":\"\"}}}],\"carpet\":[{\"aaxis\":{\"endlinecolor\":\"#2a3f5f\",\"gridcolor\":\"white\",\"linecolor\":\"white\",\"minorgridcolor\":\"white\",\"startlinecolor\":\"#2a3f5f\"},\"baxis\":{\"endlinecolor\":\"#2a3f5f\",\"gridcolor\":\"white\",\"linecolor\":\"white\",\"minorgridcolor\":\"white\",\"startlinecolor\":\"#2a3f5f\"},\"type\":\"carpet\"}],\"table\":[{\"cells\":{\"fill\":{\"color\":\"#EBF0F8\"},\"line\":{\"color\":\"white\"}},\"header\":{\"fill\":{\"color\":\"#C8D4E3\"},\"line\":{\"color\":\"white\"}},\"type\":\"table\"}],\"barpolar\":[{\"marker\":{\"line\":{\"color\":\"#E5ECF6\",\"width\":0.5},\"pattern\":{\"fillmode\":\"overlay\",\"size\":10,\"solidity\":0.2}},\"type\":\"barpolar\"}],\"pie\":[{\"automargin\":true,\"type\":\"pie\"}]},\"layout\":{\"autotypenumbers\":\"strict\",\"colorway\":[\"#636efa\",\"#EF553B\",\"#00cc96\",\"#ab63fa\",\"#FFA15A\",\"#19d3f3\",\"#FF6692\",\"#B6E880\",\"#FF97FF\",\"#FECB52\"],\"font\":{\"color\":\"#2a3f5f\"},\"hovermode\":\"closest\",\"hoverlabel\":{\"align\":\"left\"},\"paper_bgcolor\":\"white\",\"plot_bgcolor\":\"#E5ECF6\",\"polar\":{\"bgcolor\":\"#E5ECF6\",\"angularaxis\":{\"gridcolor\":\"white\",\"linecolor\":\"white\",\"ticks\":\"\"},\"radialaxis\":{\"gridcolor\":\"white\",\"linecolor\":\"white\",\"ticks\":\"\"}},\"ternary\":{\"bgcolor\":\"#E5ECF6\",\"aaxis\":{\"gridcolor\":\"white\",\"linecolor\":\"white\",\"ticks\":\"\"},\"baxis\":{\"gridcolor\":\"white\",\"linecolor\":\"white\",\"ticks\":\"\"},\"caxis\":{\"gridcolor\":\"white\",\"linecolor\":\"white\",\"ticks\":\"\"}},\"coloraxis\":{\"colorbar\":{\"outlinewidth\":0,\"ticks\":\"\"}},\"colorscale\":{\"sequential\":[[0.0,\"#0d0887\"],[0.1111111111111111,\"#46039f\"],[0.2222222222222222,\"#7201a8\"],[0.3333333333333333,\"#9c179e\"],[0.4444444444444444,\"#bd3786\"],[0.5555555555555556,\"#d8576b\"],[0.6666666666666666,\"#ed7953\"],[0.7777777777777778,\"#fb9f3a\"],[0.8888888888888888,\"#fdca26\"],[1.0,\"#f0f921\"]],\"sequentialminus\":[[0.0,\"#0d0887\"],[0.1111111111111111,\"#46039f\"],[0.2222222222222222,\"#7201a8\"],[0.3333333333333333,\"#9c179e\"],[0.4444444444444444,\"#bd3786\"],[0.5555555555555556,\"#d8576b\"],[0.6666666666666666,\"#ed7953\"],[0.7777777777777778,\"#fb9f3a\"],[0.8888888888888888,\"#fdca26\"],[1.0,\"#f0f921\"]],\"diverging\":[[0,\"#8e0152\"],[0.1,\"#c51b7d\"],[0.2,\"#de77ae\"],[0.3,\"#f1b6da\"],[0.4,\"#fde0ef\"],[0.5,\"#f7f7f7\"],[0.6,\"#e6f5d0\"],[0.7,\"#b8e186\"],[0.8,\"#7fbc41\"],[0.9,\"#4d9221\"],[1,\"#276419\"]]},\"xaxis\":{\"gridcolor\":\"white\",\"linecolor\":\"white\",\"ticks\":\"\",\"title\":{\"standoff\":15},\"zerolinecolor\":\"white\",\"automargin\":true,\"zerolinewidth\":2},\"yaxis\":{\"gridcolor\":\"white\",\"linecolor\":\"white\",\"ticks\":\"\",\"title\":{\"standoff\":15},\"zerolinecolor\":\"white\",\"automargin\":true,\"zerolinewidth\":2},\"scene\":{\"xaxis\":{\"backgroundcolor\":\"#E5ECF6\",\"gridcolor\":\"white\",\"linecolor\":\"white\",\"showbackground\":true,\"ticks\":\"\",\"zerolinecolor\":\"white\",\"gridwidth\":2},\"yaxis\":{\"backgroundcolor\":\"#E5ECF6\",\"gridcolor\":\"white\",\"linecolor\":\"white\",\"showbackground\":true,\"ticks\":\"\",\"zerolinecolor\":\"white\",\"gridwidth\":2},\"zaxis\":{\"backgroundcolor\":\"#E5ECF6\",\"gridcolor\":\"white\",\"linecolor\":\"white\",\"showbackground\":true,\"ticks\":\"\",\"zerolinecolor\":\"white\",\"gridwidth\":2}},\"shapedefaults\":{\"line\":{\"color\":\"#2a3f5f\"}},\"annotationdefaults\":{\"arrowcolor\":\"#2a3f5f\",\"arrowhead\":0,\"arrowwidth\":1},\"geo\":{\"bgcolor\":\"white\",\"landcolor\":\"#E5ECF6\",\"subunitcolor\":\"white\",\"showland\":true,\"showlakes\":true,\"lakecolor\":\"white\"},\"title\":{\"x\":0.05},\"mapbox\":{\"style\":\"light\"}}},\"xaxis\":{\"anchor\":\"y\",\"domain\":[0.0,1.0],\"title\":{\"text\":\"\\u044d\\u043f\\u043e\\u0445\\u0430\"}},\"yaxis\":{\"anchor\":\"x\",\"domain\":[0.0,1.0],\"title\":{\"text\":\"\\u0442\\u043e\\u0447\\u043d\\u043e\\u0441\\u0442\\u044c\"}},\"legend\":{\"title\":{\"text\":\"\\u0422\\u0438\\u043f\"},\"tracegroupgap\":0},\"margin\":{\"t\":60},\"title\":{\"text\":\"\\u0413\\u0440\\u0430\\u0444\\u0438\\u043a \\u0442\\u043e\\u0447\\u043d\\u043e\\u0441\\u0442\\u0438\"}},                        {\"responsive\": true}                    ).then(function(){\n",
              "                            \n",
              "var gd = document.getElementById('b950de2c-647b-4712-bee9-5623520521f1');\n",
              "var x = new MutationObserver(function (mutations, observer) {{\n",
              "        var display = window.getComputedStyle(gd).display;\n",
              "        if (!display || display === 'none') {{\n",
              "            console.log([gd, 'removed!']);\n",
              "            Plotly.purge(gd);\n",
              "            observer.disconnect();\n",
              "        }}\n",
              "}});\n",
              "\n",
              "// Listen for the removal of the full notebook cells\n",
              "var notebookContainer = gd.closest('#notebook-container');\n",
              "if (notebookContainer) {{\n",
              "    x.observe(notebookContainer, {childList: true});\n",
              "}}\n",
              "\n",
              "// Listen for the clearing of the current output cell\n",
              "var outputEl = gd.closest('.output');\n",
              "if (outputEl) {{\n",
              "    x.observe(outputEl, {childList: true});\n",
              "}}\n",
              "\n",
              "                        })                };                            </script>        </div>\n",
              "</body>\n",
              "</html>"
            ]
          },
          "metadata": {}
        }
      ],
      "source": [
        "# Создание графика значений потерь\n",
        "fig1 = px.line(m1.history, y=['loss', 'val_loss'], labels={'index': 'эпоха', 'value': 'значение потерь'})\n",
        "fig1.update_layout(\n",
        "    title=\"График значений потерь\",\n",
        "    xaxis_title=\"эпоха\",\n",
        "    yaxis_title=\"значение потерь\",\n",
        "    legend_title=\"Тип\",\n",
        ")\n",
        "\n",
        "fig2 = px.line(m1.history, y=['accuracy', 'val_accuracy'], labels={'index': 'эпоха', 'value': 'точность'})\n",
        "fig2.update_layout(\n",
        "    title=\"График точности\",\n",
        "    xaxis_title=\"эпоха\",\n",
        "    yaxis_title=\"точность\",\n",
        "    legend_title=\"Тип\",\n",
        ")\n",
        "\n",
        "# Отображение графиков\n",
        "fig1.show()\n",
        "fig2.show()"
      ]
    },
    {
      "cell_type": "code",
      "execution_count": 175,
      "id": "97ca3323",
      "metadata": {
        "execution": {
          "iopub.execute_input": "2022-06-01T11:44:58.072777Z",
          "iopub.status.busy": "2022-06-01T11:44:58.071998Z",
          "iopub.status.idle": "2022-06-01T11:44:58.075598Z",
          "shell.execute_reply": "2022-06-01T11:44:58.074937Z",
          "shell.execute_reply.started": "2022-06-01T11:32:47.705546Z"
        },
        "id": "97ca3323",
        "papermill": {
          "duration": 0.058002,
          "end_time": "2022-06-01T11:44:58.075764",
          "exception": false,
          "start_time": "2022-06-01T11:44:58.017762",
          "status": "completed"
        },
        "tags": [],
        "colab": {
          "base_uri": "https://localhost:8080/"
        },
        "outputId": "f2af9120-7126-45ae-f690-9ac767da3e1d"
      },
      "outputs": [
        {
          "output_type": "stream",
          "name": "stdout",
          "text": [
            "63/63 [==============================] - 1s 18ms/step - loss: 0.5506 - accuracy: 0.8750\n"
          ]
        }
      ],
      "source": [
        "test_tweets, test_emotions = get_tweet_data(test)\n",
        "test_sequences = make_sequences(tokenizer, test_tweets)\n",
        "test_labels = names_to_ids(test_emotions)\n",
        "\n",
        "m1_r = model.evaluate(x=test_sequences, y=test_labels)\n",
        "\n",
        "n = random.randint(0, len(test_labels) - 1)"
      ]
    },
    {
      "cell_type": "code",
      "execution_count": 176,
      "id": "d8978bfb",
      "metadata": {
        "execution": {
          "iopub.execute_input": "2022-06-01T11:44:58.187688Z",
          "iopub.status.busy": "2022-06-01T11:44:58.186919Z",
          "iopub.status.idle": "2022-06-01T11:44:58.190068Z",
          "shell.execute_reply": "2022-06-01T11:44:58.190665Z",
          "shell.execute_reply.started": "2022-06-01T11:32:47.717011Z"
        },
        "id": "d8978bfb",
        "papermill": {
          "duration": 0.065558,
          "end_time": "2022-06-01T11:44:58.190886",
          "exception": false,
          "start_time": "2022-06-01T11:44:58.125328",
          "status": "completed"
        },
        "tags": [],
        "colab": {
          "base_uri": "https://localhost:8080/"
        },
        "outputId": "a8866ff4-e2c2-4ec6-f67d-12cdfa273c0d"
      },
      "outputs": [
        {
          "output_type": "stream",
          "name": "stdout",
          "text": [
            "i spend a lot of time feeling disappointed with myself for not doing a better job at attaining my goals\n",
            "Emotion 0\n",
            "1/1 [==============================] - 0s 38ms/step\n"
          ]
        },
        {
          "output_type": "execute_result",
          "data": {
            "text/plain": [
              "0"
            ]
          },
          "metadata": {},
          "execution_count": 176
        }
      ],
      "source": [
        "# Вывод фактического текста твита и связанной с ним эмоции\n",
        "print(test_tweets[n])\n",
        "print('Emotion', index_to_class[test_labels[n]])\n",
        "prediction = model.predict(np.expand_dims(test_sequences[n], axis=0))[0]\n",
        "prediction_emotion = index_to_class[np.argmax(prediction).astype('uint8')]\n",
        "prediction_emotion"
      ]
    },
    {
      "cell_type": "code",
      "source": [
        "# Функция для вычисления метрик\n",
        "def calculate_metrics(y_true, y_pred):\n",
        "    accuracy = accuracy_score(y_true, y_pred)\n",
        "    precision = precision_score(y_true, y_pred, average='weighted')\n",
        "    recall = recall_score(y_true, y_pred, average='weighted')\n",
        "    f1 = f1_score(y_true, y_pred, average='weighted')\n",
        "    return accuracy, precision, recall, f1"
      ],
      "metadata": {
        "id": "Bg8Rwh66s9Pl"
      },
      "id": "Bg8Rwh66s9Pl",
      "execution_count": 177,
      "outputs": []
    },
    {
      "cell_type": "code",
      "execution_count": 178,
      "id": "843fa1f8",
      "metadata": {
        "execution": {
          "iopub.execute_input": "2022-06-01T11:44:58.290075Z",
          "iopub.status.busy": "2022-06-01T11:44:58.289158Z",
          "iopub.status.idle": "2022-06-01T11:44:59.535704Z",
          "shell.execute_reply": "2022-06-01T11:44:59.536383Z",
          "shell.execute_reply.started": "2022-06-01T11:32:47.733762Z"
        },
        "id": "843fa1f8",
        "papermill": {
          "duration": 1.298635,
          "end_time": "2022-06-01T11:44:59.536636",
          "exception": false,
          "start_time": "2022-06-01T11:44:58.238001",
          "status": "completed"
        },
        "tags": [],
        "colab": {
          "base_uri": "https://localhost:8080/"
        },
        "outputId": "955d6bbb-383e-4d7d-d48e-853e7f440fd6"
      },
      "outputs": [
        {
          "output_type": "stream",
          "name": "stdout",
          "text": [
            "63/63 [==============================] - 1s 19ms/step\n",
            "Accuracy: 0.875\n",
            "Precision: 0.8817054225715945\n",
            "Recall: 0.875\n",
            "F1-score: 0.8771985074636196\n"
          ]
        }
      ],
      "source": [
        "# Получение предсказаний модели\n",
        "y_pred = np.argmax(model.predict(test_sequences), axis=1)\n",
        "\n",
        "# Вычисление метрик\n",
        "accuracy, precision, recall, f1 = calculate_metrics(test_labels, y_pred)\n",
        "\n",
        "print(\"Accuracy:\", accuracy)\n",
        "print(\"Precision:\", precision)\n",
        "print(\"Recall:\", recall)\n",
        "print(\"F1-score:\", f1)"
      ]
    },
    {
      "cell_type": "code",
      "source": [
        "# Получение списка уникальных эмоций\n",
        "unique_emotions = data['train'].features['label'].names\n",
        "\n",
        "# Создание словаря, где каждой эмоции соответствует цифра\n",
        "emotion_to_index = {emotion: index for index, emotion in enumerate(unique_emotions)}\n",
        "\n",
        "# Вывод словаря на экран\n",
        "print(emotion_to_index)\n",
        "\n",
        "sentence = \"Oh you are so beautiful fuck fuck\"\n",
        "\n",
        "sentence_tokens = tokenizer.texts_to_sequences([sentence])\n",
        "padded_sentence = pad_sequences(sentence_tokens, truncating='post', padding='post', maxlen=max_len)\n",
        "\n",
        "prediction = model.predict(padded_sentence)\n",
        "predicted_emotion = index_to_class[np.argmax(prediction)]\n",
        "\n",
        "print(\"Предсказанная эмоция:\", predicted_emotion)"
      ],
      "metadata": {
        "colab": {
          "base_uri": "https://localhost:8080/"
        },
        "id": "K8HAq5rJtLxp",
        "outputId": "ff76d286-374d-42a7-cf1b-601feb60d330"
      },
      "id": "K8HAq5rJtLxp",
      "execution_count": 179,
      "outputs": [
        {
          "output_type": "stream",
          "name": "stdout",
          "text": [
            "{'sadness': 0, 'joy': 1, 'love': 2, 'anger': 3, 'fear': 4, 'surprise': 5}\n",
            "1/1 [==============================] - 0s 37ms/step\n",
            "Предсказанная эмоция: 0\n"
          ]
        }
      ]
    },
    {
      "cell_type": "code",
      "execution_count": 180,
      "id": "1d3b1eaa",
      "metadata": {
        "execution": {
          "iopub.execute_input": "2022-06-01T11:44:59.638745Z",
          "iopub.status.busy": "2022-06-01T11:44:59.637924Z",
          "iopub.status.idle": "2022-06-01T11:44:59.649431Z",
          "shell.execute_reply": "2022-06-01T11:44:59.648741Z",
          "shell.execute_reply.started": "2022-06-01T11:32:48.774321Z"
        },
        "id": "1d3b1eaa",
        "outputId": "9688282d-4e42-465f-a23a-4b56e10d408f",
        "papermill": {
          "duration": 0.065501,
          "end_time": "2022-06-01T11:44:59.649615",
          "exception": false,
          "start_time": "2022-06-01T11:44:59.584114",
          "status": "completed"
        },
        "tags": [],
        "colab": {
          "base_uri": "https://localhost:8080/"
        }
      },
      "outputs": [
        {
          "output_type": "stream",
          "name": "stdout",
          "text": [
            "1/1 [==============================] - 0s 37ms/step\n",
            "Предложение: i feel inside cause life is like a game sometimes but then you came around me the walls just disappeared nothing to surround me and keep me from my fears im unprotected see how ive opened up youve made me trust\n",
            "Метка: 4\n",
            "Предсказанная эмоция: 0\n",
            "-------------------------\n",
            "1/1 [==============================] - 0s 38ms/step\n",
            "Предложение: i feel inside coz i m so fucking horny\n",
            "Метка: 2\n",
            "Предсказанная эмоция: 2\n",
            "-------------------------\n",
            "1/1 [==============================] - 0s 32ms/step\n",
            "Предложение: i feel like a boring blogger lately\n",
            "Метка: 0\n",
            "Предсказанная эмоция: 0\n",
            "-------------------------\n",
            "1/1 [==============================] - 0s 35ms/step\n",
            "Предложение: i feel that books are always a wonderful gift for a baby\n",
            "Метка: 1\n",
            "Предсказанная эмоция: 1\n",
            "-------------------------\n",
            "1/1 [==============================] - 0s 42ms/step\n",
            "Предложение: i do know that i tell some people if i feel that their question is sincere some of my sacred treasures\n",
            "Метка: 1\n",
            "Предсказанная эмоция: 1\n",
            "-------------------------\n",
            "1/1 [==============================] - 0s 41ms/step\n",
            "Предложение: i feel like charmed gave me the means to spend those few years when my sons were very young at home with them\n",
            "Метка: 1\n",
            "Предсказанная эмоция: 1\n",
            "-------------------------\n",
            "1/1 [==============================] - 0s 30ms/step\n",
            "Предложение: i rarely respond to the comments made unless i have what i feel is a very important and specific reason for doing so\n",
            "Метка: 1\n",
            "Предсказанная эмоция: 1\n",
            "-------------------------\n",
            "1/1 [==============================] - 0s 31ms/step\n",
            "Предложение: i found myself giggling and clapping my hands more often than a five year old at the ice cream wagon and there was never a point where i didnt feel genuinely entertained\n",
            "Метка: 1\n",
            "Предсказанная эмоция: 1\n",
            "-------------------------\n",
            "1/1 [==============================] - 0s 33ms/step\n",
            "Предложение: i had the feeling that it might not have been taken as the truthful and sincere compliment it would have been\n",
            "Метка: 1\n",
            "Предсказанная эмоция: 1\n",
            "-------------------------\n",
            "1/1 [==============================] - 0s 34ms/step\n",
            "Предложение: i forgive myself for accepting and allowing myself to have the feeling that i am going to get punished for doing something wrong\n",
            "Метка: 0\n",
            "Предсказанная эмоция: 0\n",
            "-------------------------\n"
          ]
        }
      ],
      "source": [
        "# Получение случайных индексов для десяти предложений\n",
        "random_indices = random.sample(range(len(test_tweets)), 10)\n",
        "\n",
        "for index in random_indices:\n",
        "    # Получение предложения, его последовательности и метки\n",
        "    tweet = test_tweets[index]\n",
        "    sequence = test_sequences[index]\n",
        "    label = test_labels[index]\n",
        "\n",
        "    # Предсказание эмоции для предложения\n",
        "    prediction = model.predict(np.expand_dims(sequence, axis=0))[0]\n",
        "    predicted_emotion = index_to_class[np.argmax(prediction).astype('uint8')]\n",
        "\n",
        "    # Вывод предложения, его метки и предсказанной эмоции\n",
        "    print(\"Предложение:\", tweet)\n",
        "    print(\"Метка:\", index_to_class[label])\n",
        "    print(\"Предсказанная эмоция:\", predicted_emotion)\n",
        "    print(\"-------------------------\")\n"
      ]
    },
    {
      "cell_type": "code",
      "source": [
        "# Сохранение токенизатора\n",
        "tokenizer_path = os.path.join(\"model_checkpoints\", \"tokenizer.joblib\")\n",
        "joblib.dump(tokenizer, tokenizer_path)\n",
        "\n",
        "# Сохранение словарей эмоций\n",
        "emotion_to_index_path = os.path.join(\"model_checkpoints\", \"emotion_to_index.joblib\")\n",
        "index_to_class_path = os.path.join(\"model_checkpoints\", \"index_to_class.joblib\")\n",
        "joblib.dump(emotion_to_index, emotion_to_index_path)\n",
        "joblib.dump(index_to_class, index_to_class_path)\n",
        "\n",
        "# Сохранение модели\n",
        "model_path = os.path.join(\"model_checkpoints\", \"model_1_Bidirectional_RNN.h5\")\n",
        "model.save(model_path)\n",
        "\n",
        "# Сохранение параметров модели\n",
        "params = {\n",
        "    \"max_len\": max_len,\n",
        "    \"classes_to_index\": classes_to_index,\n",
        "    \"index_to_class\": index_to_class\n",
        "}\n",
        "params_path = os.path.join(\"model_checkpoints\", \"model_params.joblib\")\n",
        "joblib.dump(params, params_path)"
      ],
      "metadata": {
        "colab": {
          "base_uri": "https://localhost:8080/"
        },
        "id": "jKm8U6861e3h",
        "outputId": "3d482a04-a3cd-4bce-b193-5531488504eb"
      },
      "id": "jKm8U6861e3h",
      "execution_count": 181,
      "outputs": [
        {
          "output_type": "execute_result",
          "data": {
            "text/plain": [
              "['model_checkpoints/model_params.joblib']"
            ]
          },
          "metadata": {},
          "execution_count": 181
        }
      ]
    },
    {
      "cell_type": "code",
      "source": [],
      "metadata": {
        "id": "A_5HZiE9M5_1"
      },
      "id": "A_5HZiE9M5_1",
      "execution_count": 181,
      "outputs": []
    }
  ],
  "metadata": {
    "kernelspec": {
      "display_name": "Python 3",
      "language": "python",
      "name": "python3"
    },
    "language_info": {
      "codemirror_mode": {
        "name": "ipython",
        "version": 3
      },
      "file_extension": ".py",
      "mimetype": "text/x-python",
      "name": "python",
      "nbconvert_exporter": "python",
      "pygments_lexer": "ipython3",
      "version": "3.7.12"
    },
    "papermill": {
      "default_parameters": {},
      "duration": 814.425111,
      "end_time": "2022-06-01T11:57:24.285316",
      "environment_variables": {},
      "exception": null,
      "input_path": "__notebook__.ipynb",
      "output_path": "__notebook__.ipynb",
      "parameters": {},
      "start_time": "2022-06-01T11:43:49.860205",
      "version": "2.3.3"
    },
    "widgets": {
      "application/vnd.jupyter.widget-state+json": {
        "9dd934811ef04a43b81928fe3f63dec5": {
          "model_module": "@jupyter-widgets/controls",
          "model_name": "HBoxModel",
          "model_module_version": "1.5.0",
          "state": {
            "_dom_classes": [],
            "_model_module": "@jupyter-widgets/controls",
            "_model_module_version": "1.5.0",
            "_model_name": "HBoxModel",
            "_view_count": null,
            "_view_module": "@jupyter-widgets/controls",
            "_view_module_version": "1.5.0",
            "_view_name": "HBoxView",
            "box_style": "",
            "children": [
              "IPY_MODEL_547961efcb6944d183af5ba14e5be072",
              "IPY_MODEL_190d9b5fa7ba45c18f74c32023e5c802",
              "IPY_MODEL_f7c88326f8c9433aa2c470605e2d8756"
            ],
            "layout": "IPY_MODEL_ef193f105f34409088409f19af1f78f1"
          }
        },
        "547961efcb6944d183af5ba14e5be072": {
          "model_module": "@jupyter-widgets/controls",
          "model_name": "HTMLModel",
          "model_module_version": "1.5.0",
          "state": {
            "_dom_classes": [],
            "_model_module": "@jupyter-widgets/controls",
            "_model_module_version": "1.5.0",
            "_model_name": "HTMLModel",
            "_view_count": null,
            "_view_module": "@jupyter-widgets/controls",
            "_view_module_version": "1.5.0",
            "_view_name": "HTMLView",
            "description": "",
            "description_tooltip": null,
            "layout": "IPY_MODEL_f495eee7258143e380cd8c724dfd80c8",
            "placeholder": "​",
            "style": "IPY_MODEL_264d68aae2f24f34964d655beecbbb5a",
            "value": "100%"
          }
        },
        "190d9b5fa7ba45c18f74c32023e5c802": {
          "model_module": "@jupyter-widgets/controls",
          "model_name": "FloatProgressModel",
          "model_module_version": "1.5.0",
          "state": {
            "_dom_classes": [],
            "_model_module": "@jupyter-widgets/controls",
            "_model_module_version": "1.5.0",
            "_model_name": "FloatProgressModel",
            "_view_count": null,
            "_view_module": "@jupyter-widgets/controls",
            "_view_module_version": "1.5.0",
            "_view_name": "ProgressView",
            "bar_style": "success",
            "description": "",
            "description_tooltip": null,
            "layout": "IPY_MODEL_145d1300f91a4daabfa2fe75e348bb3b",
            "max": 3,
            "min": 0,
            "orientation": "horizontal",
            "style": "IPY_MODEL_e4c6010c7b0b4245962fee9ec7955de3",
            "value": 3
          }
        },
        "f7c88326f8c9433aa2c470605e2d8756": {
          "model_module": "@jupyter-widgets/controls",
          "model_name": "HTMLModel",
          "model_module_version": "1.5.0",
          "state": {
            "_dom_classes": [],
            "_model_module": "@jupyter-widgets/controls",
            "_model_module_version": "1.5.0",
            "_model_name": "HTMLModel",
            "_view_count": null,
            "_view_module": "@jupyter-widgets/controls",
            "_view_module_version": "1.5.0",
            "_view_name": "HTMLView",
            "description": "",
            "description_tooltip": null,
            "layout": "IPY_MODEL_fb916899c50c4384853e7cfbb639bebc",
            "placeholder": "​",
            "style": "IPY_MODEL_1a82b748f7b04917afa10a5da0512823",
            "value": " 3/3 [00:00&lt;00:00, 48.46it/s]"
          }
        },
        "ef193f105f34409088409f19af1f78f1": {
          "model_module": "@jupyter-widgets/base",
          "model_name": "LayoutModel",
          "model_module_version": "1.2.0",
          "state": {
            "_model_module": "@jupyter-widgets/base",
            "_model_module_version": "1.2.0",
            "_model_name": "LayoutModel",
            "_view_count": null,
            "_view_module": "@jupyter-widgets/base",
            "_view_module_version": "1.2.0",
            "_view_name": "LayoutView",
            "align_content": null,
            "align_items": null,
            "align_self": null,
            "border": null,
            "bottom": null,
            "display": null,
            "flex": null,
            "flex_flow": null,
            "grid_area": null,
            "grid_auto_columns": null,
            "grid_auto_flow": null,
            "grid_auto_rows": null,
            "grid_column": null,
            "grid_gap": null,
            "grid_row": null,
            "grid_template_areas": null,
            "grid_template_columns": null,
            "grid_template_rows": null,
            "height": null,
            "justify_content": null,
            "justify_items": null,
            "left": null,
            "margin": null,
            "max_height": null,
            "max_width": null,
            "min_height": null,
            "min_width": null,
            "object_fit": null,
            "object_position": null,
            "order": null,
            "overflow": null,
            "overflow_x": null,
            "overflow_y": null,
            "padding": null,
            "right": null,
            "top": null,
            "visibility": null,
            "width": null
          }
        },
        "f495eee7258143e380cd8c724dfd80c8": {
          "model_module": "@jupyter-widgets/base",
          "model_name": "LayoutModel",
          "model_module_version": "1.2.0",
          "state": {
            "_model_module": "@jupyter-widgets/base",
            "_model_module_version": "1.2.0",
            "_model_name": "LayoutModel",
            "_view_count": null,
            "_view_module": "@jupyter-widgets/base",
            "_view_module_version": "1.2.0",
            "_view_name": "LayoutView",
            "align_content": null,
            "align_items": null,
            "align_self": null,
            "border": null,
            "bottom": null,
            "display": null,
            "flex": null,
            "flex_flow": null,
            "grid_area": null,
            "grid_auto_columns": null,
            "grid_auto_flow": null,
            "grid_auto_rows": null,
            "grid_column": null,
            "grid_gap": null,
            "grid_row": null,
            "grid_template_areas": null,
            "grid_template_columns": null,
            "grid_template_rows": null,
            "height": null,
            "justify_content": null,
            "justify_items": null,
            "left": null,
            "margin": null,
            "max_height": null,
            "max_width": null,
            "min_height": null,
            "min_width": null,
            "object_fit": null,
            "object_position": null,
            "order": null,
            "overflow": null,
            "overflow_x": null,
            "overflow_y": null,
            "padding": null,
            "right": null,
            "top": null,
            "visibility": null,
            "width": null
          }
        },
        "264d68aae2f24f34964d655beecbbb5a": {
          "model_module": "@jupyter-widgets/controls",
          "model_name": "DescriptionStyleModel",
          "model_module_version": "1.5.0",
          "state": {
            "_model_module": "@jupyter-widgets/controls",
            "_model_module_version": "1.5.0",
            "_model_name": "DescriptionStyleModel",
            "_view_count": null,
            "_view_module": "@jupyter-widgets/base",
            "_view_module_version": "1.2.0",
            "_view_name": "StyleView",
            "description_width": ""
          }
        },
        "145d1300f91a4daabfa2fe75e348bb3b": {
          "model_module": "@jupyter-widgets/base",
          "model_name": "LayoutModel",
          "model_module_version": "1.2.0",
          "state": {
            "_model_module": "@jupyter-widgets/base",
            "_model_module_version": "1.2.0",
            "_model_name": "LayoutModel",
            "_view_count": null,
            "_view_module": "@jupyter-widgets/base",
            "_view_module_version": "1.2.0",
            "_view_name": "LayoutView",
            "align_content": null,
            "align_items": null,
            "align_self": null,
            "border": null,
            "bottom": null,
            "display": null,
            "flex": null,
            "flex_flow": null,
            "grid_area": null,
            "grid_auto_columns": null,
            "grid_auto_flow": null,
            "grid_auto_rows": null,
            "grid_column": null,
            "grid_gap": null,
            "grid_row": null,
            "grid_template_areas": null,
            "grid_template_columns": null,
            "grid_template_rows": null,
            "height": null,
            "justify_content": null,
            "justify_items": null,
            "left": null,
            "margin": null,
            "max_height": null,
            "max_width": null,
            "min_height": null,
            "min_width": null,
            "object_fit": null,
            "object_position": null,
            "order": null,
            "overflow": null,
            "overflow_x": null,
            "overflow_y": null,
            "padding": null,
            "right": null,
            "top": null,
            "visibility": null,
            "width": null
          }
        },
        "e4c6010c7b0b4245962fee9ec7955de3": {
          "model_module": "@jupyter-widgets/controls",
          "model_name": "ProgressStyleModel",
          "model_module_version": "1.5.0",
          "state": {
            "_model_module": "@jupyter-widgets/controls",
            "_model_module_version": "1.5.0",
            "_model_name": "ProgressStyleModel",
            "_view_count": null,
            "_view_module": "@jupyter-widgets/base",
            "_view_module_version": "1.2.0",
            "_view_name": "StyleView",
            "bar_color": null,
            "description_width": ""
          }
        },
        "fb916899c50c4384853e7cfbb639bebc": {
          "model_module": "@jupyter-widgets/base",
          "model_name": "LayoutModel",
          "model_module_version": "1.2.0",
          "state": {
            "_model_module": "@jupyter-widgets/base",
            "_model_module_version": "1.2.0",
            "_model_name": "LayoutModel",
            "_view_count": null,
            "_view_module": "@jupyter-widgets/base",
            "_view_module_version": "1.2.0",
            "_view_name": "LayoutView",
            "align_content": null,
            "align_items": null,
            "align_self": null,
            "border": null,
            "bottom": null,
            "display": null,
            "flex": null,
            "flex_flow": null,
            "grid_area": null,
            "grid_auto_columns": null,
            "grid_auto_flow": null,
            "grid_auto_rows": null,
            "grid_column": null,
            "grid_gap": null,
            "grid_row": null,
            "grid_template_areas": null,
            "grid_template_columns": null,
            "grid_template_rows": null,
            "height": null,
            "justify_content": null,
            "justify_items": null,
            "left": null,
            "margin": null,
            "max_height": null,
            "max_width": null,
            "min_height": null,
            "min_width": null,
            "object_fit": null,
            "object_position": null,
            "order": null,
            "overflow": null,
            "overflow_x": null,
            "overflow_y": null,
            "padding": null,
            "right": null,
            "top": null,
            "visibility": null,
            "width": null
          }
        },
        "1a82b748f7b04917afa10a5da0512823": {
          "model_module": "@jupyter-widgets/controls",
          "model_name": "DescriptionStyleModel",
          "model_module_version": "1.5.0",
          "state": {
            "_model_module": "@jupyter-widgets/controls",
            "_model_module_version": "1.5.0",
            "_model_name": "DescriptionStyleModel",
            "_view_count": null,
            "_view_module": "@jupyter-widgets/base",
            "_view_module_version": "1.2.0",
            "_view_name": "StyleView",
            "description_width": ""
          }
        }
      }
    },
    "colab": {
      "provenance": []
    }
  },
  "nbformat": 4,
  "nbformat_minor": 5
}